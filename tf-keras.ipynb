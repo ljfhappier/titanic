{
 "cells": [
  {
   "cell_type": "code",
   "execution_count": 51,
   "metadata": {
    "collapsed": false
   },
   "outputs": [
    {
     "name": "stdout",
     "output_type": "stream",
     "text": [
      "1.12.0\n",
      "2.1.6-tf\n"
     ]
    }
   ],
   "source": [
    "import tensorflow as tf\n",
    "from tensorflow import keras\n",
    "#from tensorflow.keras import layers\n",
    "\n",
    "print (tf.VERSION)\n",
    "print (tf.keras.__version__)"
   ]
  },
  {
   "cell_type": "code",
   "execution_count": 4,
   "metadata": {
    "collapsed": true
   },
   "outputs": [],
   "source": [
    "import numpy as np\n",
    "import pandas as pd\n",
    "import os\n",
    "\n",
    "path_folder=os.path.normcase(r'C:\\Users\\dell\\Downloads\\Titanic-maching-learning-from-disaster')\n",
    "train_data_origin=pd.read_csv(os.path.join(path_folder,'train.csv'),sep=',')\n",
    "test_data_origin=pd.read_csv(os.path.join(path_folder,'test.csv'),sep=',')"
   ]
  },
  {
   "cell_type": "markdown",
   "metadata": {},
   "source": [
    "Data preprocessing"
   ]
  },
  {
   "cell_type": "code",
   "execution_count": 27,
   "metadata": {
    "collapsed": false
   },
   "outputs": [],
   "source": [
    "def deal_ticket_fare(df):\n",
    "    '''\n",
    "    计算每张票有几人共享，以及每人花费的船票钱\n",
    "    \n",
    "    paramters:\n",
    "        df--dataframe，待处理的数据表\n",
    "        \n",
    "    return:\n",
    "        df_count--处理后，添加新列的数据表\n",
    "    '''\n",
    "    num_of_tickets=df[['Ticket']].groupby(df['Ticket']).count()\n",
    "    num_of_tickets.columns=['num_of_tickets']\n",
    "    df_count=df.merge(num_of_tickets,left_on='Ticket',right_index=True,how='left')\n",
    "    df_count['fare_per_ticket']=df_count['Fare']/df_count['num_of_tickets']\n",
    "    return df_count\n",
    "\n",
    "cols=['Sex_T','Embarked_T','Age','Fare','fare_per_ticket','num_of_tickets','Pclass','SibSp','Parch']\n",
    "train_data_count=deal_ticket_fare(train_data_origin)\n",
    "trans_sex={'male':0,'female':1}\n",
    "trans_embarked={'S':0,'C':1,'Q':2}\n",
    "\n",
    "train_data_count['Sex_T']=train_data_count['Sex'].map(trans_sex)\n",
    "#from sklearn.impute import MissingIndicator\n",
    "#indicator=MissingIndicator(missing_values=np.nan)\n",
    "#train_missing_indicator=indicator.fit_transform(train_data_count)\n",
    "from sklearn.impute import SimpleImputer\n",
    "imp1=SimpleImputer(missing_values=np.nan,strategy='most_frequent')\n",
    "train_data_count['Embarked']=imp1.fit_transform(train_data_count[['Embarked']])\n",
    "imp2=SimpleImputer(missing_values=np.nan,strategy='mean')\n",
    "train_data_count['Age']=imp2.fit_transform(train_data_count[['Age']])\n",
    "train_data_count['Embarked_T']=train_data_count['Embarked'].map(trans_embarked).astype(np.int)\n",
    "cols=['Sex_T','Embarked_T','Age','Fare','fare_per_ticket','num_of_tickets','Pclass','SibSp','Parch']\n",
    "#X_train_data=train_data_count.reindex(columns=cols).values\n",
    "#y_train_data=train_data_count['Survived'].ravel()\n",
    "from sklearn.preprocessing import  OneHotEncoder\n",
    "enc=OneHotEncoder(handle_unknown='ignore')\n",
    "enc_train_features=enc.fit_transform(train_data_count[['Sex_T','Embarked_T']]).toarray()\n",
    "from sklearn.preprocessing import StandardScaler\n",
    "std_scaler=StandardScaler()\n",
    "sca_train_features=std_scaler.fit_transform(train_data_count[['Age','Fare','fare_per_ticket','num_of_tickets','Pclass','SibSp','Parch']].values.astype(np.float64))\n",
    "#sca_features.shape\n",
    "train_data_X=np.c_[enc_train_features,sca_train_features]\n",
    "train_data_y=train_data_count['Survived'].values.ravel()"
   ]
  },
  {
   "cell_type": "code",
   "execution_count": 28,
   "metadata": {
    "collapsed": true
   },
   "outputs": [],
   "source": [
    "values_dict={'Fare':0.0}\n",
    "test_data_origin.fillna(value=values_dict,inplace=True)\n",
    "test_data_count=deal_ticket_fare(test_data_origin)\n",
    "test_data_count['Sex_T']=test_data_count['Sex'].map(trans_sex)\n",
    "test_data_count['Embarked']=imp1.transform(test_data_count[['Embarked']])\n",
    "test_data_count['Embarked_T']=test_data_count['Embarked'].map(trans_embarked).astype(np.int)\n",
    "test_data_count['Age']=imp2.transform(test_data_count[['Age']])\n",
    "enc_test_features=enc.fit_transform(test_data_count[['Sex_T','Embarked_T']]).toarray()\n",
    "sca_test_features=std_scaler.fit_transform(test_data_count[['Age','Fare','fare_per_ticket',\\\n",
    "                                                              'num_of_tickets','Pclass','SibSp','Parch']].values.astype(np.float64))\n",
    "test_data_X=np.c_[enc_test_features,sca_test_features]"
   ]
  },
  {
   "cell_type": "markdown",
   "metadata": {},
   "source": [
    "Model"
   ]
  },
  {
   "cell_type": "code",
   "execution_count": 46,
   "metadata": {
    "collapsed": false
   },
   "outputs": [],
   "source": [
    "model=tf.keras.Sequential()\n",
    "model.add(tf.keras.layers.Dense(7,activation='relu'))\n",
    "model.add(tf.keras.layers.Dense(7,kernel_regularizer=tf.keras.regularizers.l1(0.01)))\n",
    "model.add(tf.keras.layers.Dense(7,activation='relu'))\n",
    "model.add(tf.keras.layers.Dense(7,kernel_regularizer=tf.keras.regularizers.l1(0.01)))\n",
    "model.add(tf.keras.layers.Dense(1,activation='sigmoid'))"
   ]
  },
  {
   "cell_type": "code",
   "execution_count": 47,
   "metadata": {
    "collapsed": true
   },
   "outputs": [],
   "source": [
    "model.compile(optimizer=tf.train.AdamOptimizer(0.001),loss='binary_crossentropy',metrics=['accuracy'])"
   ]
  },
  {
   "cell_type": "code",
   "execution_count": 48,
   "metadata": {
    "collapsed": false
   },
   "outputs": [
    {
     "name": "stdout",
     "output_type": "stream",
     "text": [
      "Epoch 1/100\n",
      "891/891 [==============================] - 1s 734us/step - loss: 1.1263 - acc: 0.6173\n",
      "Epoch 2/100\n",
      "891/891 [==============================] - 0s 43us/step - loss: 1.0062 - acc: 0.6162\n",
      "Epoch 3/100\n",
      "891/891 [==============================] - 0s 40us/step - loss: 0.9395 - acc: 0.6173\n",
      "Epoch 4/100\n",
      "891/891 [==============================] - 0s 44us/step - loss: 0.8949 - acc: 0.6274\n",
      "Epoch 5/100\n",
      "891/891 [==============================] - 0s 39us/step - loss: 0.8618 - acc: 0.6644\n",
      "Epoch 6/100\n",
      "891/891 [==============================] - 0s 41us/step - loss: 0.8332 - acc: 0.7194\n",
      "Epoch 7/100\n",
      "891/891 [==============================] - 0s 37us/step - loss: 0.8078 - acc: 0.7363\n",
      "Epoch 8/100\n",
      "891/891 [==============================] - 0s 39us/step - loss: 0.7840 - acc: 0.7464\n",
      "Epoch 9/100\n",
      "891/891 [==============================] - 0s 43us/step - loss: 0.7604 - acc: 0.7587\n",
      "Epoch 10/100\n",
      "891/891 [==============================] - 0s 39us/step - loss: 0.7386 - acc: 0.7666\n",
      "Epoch 11/100\n",
      "891/891 [==============================] - 0s 38us/step - loss: 0.7182 - acc: 0.7688\n",
      "Epoch 12/100\n",
      "891/891 [==============================] - 0s 40us/step - loss: 0.7000 - acc: 0.7811\n",
      "Epoch 13/100\n",
      "891/891 [==============================] - 0s 40us/step - loss: 0.6828 - acc: 0.7946\n",
      "Epoch 14/100\n",
      "891/891 [==============================] - 0s 37us/step - loss: 0.6677 - acc: 0.7935\n",
      "Epoch 15/100\n",
      "891/891 [==============================] - 0s 44us/step - loss: 0.6528 - acc: 0.8047\n",
      "Epoch 16/100\n",
      "891/891 [==============================] - 0s 40us/step - loss: 0.6396 - acc: 0.8013\n",
      "Epoch 17/100\n",
      "891/891 [==============================] - 0s 45us/step - loss: 0.6279 - acc: 0.8025\n",
      "Epoch 18/100\n",
      "891/891 [==============================] - 0s 39us/step - loss: 0.6197 - acc: 0.8081\n",
      "Epoch 19/100\n",
      "891/891 [==============================] - 0s 43us/step - loss: 0.6107 - acc: 0.8070\n",
      "Epoch 20/100\n",
      "891/891 [==============================] - 0s 46us/step - loss: 0.6026 - acc: 0.8092\n",
      "Epoch 21/100\n",
      "891/891 [==============================] - 0s 45us/step - loss: 0.5964 - acc: 0.8092\n",
      "Epoch 22/100\n",
      "891/891 [==============================] - 0s 46us/step - loss: 0.5885 - acc: 0.8114\n",
      "Epoch 23/100\n",
      "891/891 [==============================] - 0s 56us/step - loss: 0.5827 - acc: 0.8114\n",
      "Epoch 24/100\n",
      "891/891 [==============================] - 0s 51us/step - loss: 0.5761 - acc: 0.8092\n",
      "Epoch 25/100\n",
      "891/891 [==============================] - 0s 38us/step - loss: 0.5707 - acc: 0.8081\n",
      "Epoch 26/100\n",
      "891/891 [==============================] - 0s 78us/step - loss: 0.5653 - acc: 0.8126\n",
      "Epoch 27/100\n",
      "891/891 [==============================] - 0s 80us/step - loss: 0.5615 - acc: 0.8047\n",
      "Epoch 28/100\n",
      "891/891 [==============================] - 0s 65us/step - loss: 0.5580 - acc: 0.8092\n",
      "Epoch 29/100\n",
      "891/891 [==============================] - 0s 81us/step - loss: 0.5531 - acc: 0.8114\n",
      "Epoch 30/100\n",
      "891/891 [==============================] - 0s 52us/step - loss: 0.5492 - acc: 0.8148\n",
      "Epoch 31/100\n",
      "891/891 [==============================] - 0s 66us/step - loss: 0.5446 - acc: 0.8137\n",
      "Epoch 32/100\n",
      "891/891 [==============================] - 0s 86us/step - loss: 0.5428 - acc: 0.8103\n",
      "Epoch 33/100\n",
      "891/891 [==============================] - 0s 43us/step - loss: 0.5373 - acc: 0.8126\n",
      "Epoch 34/100\n",
      "891/891 [==============================] - 0s 56us/step - loss: 0.5352 - acc: 0.8171\n",
      "Epoch 35/100\n",
      "891/891 [==============================] - 0s 63us/step - loss: 0.5327 - acc: 0.8182\n",
      "Epoch 36/100\n",
      "891/891 [==============================] - 0s 60us/step - loss: 0.5305 - acc: 0.8126\n",
      "Epoch 37/100\n",
      "891/891 [==============================] - 0s 47us/step - loss: 0.5259 - acc: 0.8126\n",
      "Epoch 38/100\n",
      "891/891 [==============================] - 0s 54us/step - loss: 0.5227 - acc: 0.8182\n",
      "Epoch 39/100\n",
      "891/891 [==============================] - 0s 67us/step - loss: 0.5202 - acc: 0.8148\n",
      "Epoch 40/100\n",
      "891/891 [==============================] - 0s 81us/step - loss: 0.5176 - acc: 0.8126\n",
      "Epoch 41/100\n",
      "891/891 [==============================] - 0s 64us/step - loss: 0.5157 - acc: 0.8126\n",
      "Epoch 42/100\n",
      "891/891 [==============================] - 0s 66us/step - loss: 0.5140 - acc: 0.8182\n",
      "Epoch 43/100\n",
      "891/891 [==============================] - 0s 69us/step - loss: 0.5109 - acc: 0.8171\n",
      "Epoch 44/100\n",
      "891/891 [==============================] - 0s 66us/step - loss: 0.5094 - acc: 0.8114\n",
      "Epoch 45/100\n",
      "891/891 [==============================] - 0s 43us/step - loss: 0.5077 - acc: 0.8193\n",
      "Epoch 46/100\n",
      "891/891 [==============================] - 0s 73us/step - loss: 0.5057 - acc: 0.8204\n",
      "Epoch 47/100\n",
      "891/891 [==============================] - 0s 59us/step - loss: 0.5039 - acc: 0.8182\n",
      "Epoch 48/100\n",
      "891/891 [==============================] - 0s 55us/step - loss: 0.5023 - acc: 0.8171\n",
      "Epoch 49/100\n",
      "891/891 [==============================] - 0s 65us/step - loss: 0.5005 - acc: 0.8249\n",
      "Epoch 50/100\n",
      "891/891 [==============================] - 0s 59us/step - loss: 0.4996 - acc: 0.8182\n",
      "Epoch 51/100\n",
      "891/891 [==============================] - 0s 68us/step - loss: 0.4980 - acc: 0.8193\n",
      "Epoch 52/100\n",
      "891/891 [==============================] - 0s 53us/step - loss: 0.4977 - acc: 0.8204\n",
      "Epoch 53/100\n",
      "891/891 [==============================] - 0s 49us/step - loss: 0.4953 - acc: 0.8171\n",
      "Epoch 54/100\n",
      "891/891 [==============================] - 0s 36us/step - loss: 0.4953 - acc: 0.8215\n",
      "Epoch 55/100\n",
      "891/891 [==============================] - 0s 42us/step - loss: 0.4934 - acc: 0.8193\n",
      "Epoch 56/100\n",
      "891/891 [==============================] - 0s 55us/step - loss: 0.4928 - acc: 0.8260\n",
      "Epoch 57/100\n",
      "891/891 [==============================] - 0s 48us/step - loss: 0.4918 - acc: 0.8227\n",
      "Epoch 58/100\n",
      "891/891 [==============================] - 0s 37us/step - loss: 0.4909 - acc: 0.8249\n",
      "Epoch 59/100\n",
      "891/891 [==============================] - 0s 62us/step - loss: 0.4897 - acc: 0.8272\n",
      "Epoch 60/100\n",
      "891/891 [==============================] - 0s 48us/step - loss: 0.4888 - acc: 0.8272\n",
      "Epoch 61/100\n",
      "891/891 [==============================] - 0s 47us/step - loss: 0.4903 - acc: 0.8260\n",
      "Epoch 62/100\n",
      "891/891 [==============================] - 0s 40us/step - loss: 0.4894 - acc: 0.8238\n",
      "Epoch 63/100\n",
      "891/891 [==============================] - 0s 36us/step - loss: 0.4871 - acc: 0.8249\n",
      "Epoch 64/100\n",
      "891/891 [==============================] - 0s 38us/step - loss: 0.4877 - acc: 0.8272\n",
      "Epoch 65/100\n",
      "891/891 [==============================] - 0s 38us/step - loss: 0.4857 - acc: 0.8249\n",
      "Epoch 66/100\n",
      "891/891 [==============================] - 0s 40us/step - loss: 0.4849 - acc: 0.8193\n",
      "Epoch 67/100\n",
      "891/891 [==============================] - 0s 34us/step - loss: 0.4848 - acc: 0.8272\n",
      "Epoch 68/100\n",
      "891/891 [==============================] - 0s 58us/step - loss: 0.4837 - acc: 0.8294\n",
      "Epoch 69/100\n",
      "891/891 [==============================] - 0s 42us/step - loss: 0.4824 - acc: 0.8272\n",
      "Epoch 70/100\n",
      "891/891 [==============================] - 0s 34us/step - loss: 0.4823 - acc: 0.8249\n",
      "Epoch 71/100\n",
      "891/891 [==============================] - 0s 35us/step - loss: 0.4806 - acc: 0.8283\n",
      "Epoch 72/100\n",
      "891/891 [==============================] - 0s 36us/step - loss: 0.4805 - acc: 0.8272\n",
      "Epoch 73/100\n",
      "891/891 [==============================] - 0s 34us/step - loss: 0.4804 - acc: 0.8204\n",
      "Epoch 74/100\n",
      "891/891 [==============================] - 0s 36us/step - loss: 0.4793 - acc: 0.8260\n",
      "Epoch 75/100\n",
      "891/891 [==============================] - 0s 46us/step - loss: 0.4784 - acc: 0.8238\n",
      "Epoch 76/100\n",
      "891/891 [==============================] - 0s 34us/step - loss: 0.4777 - acc: 0.8249\n",
      "Epoch 77/100\n",
      "891/891 [==============================] - 0s 35us/step - loss: 0.4783 - acc: 0.8249\n",
      "Epoch 78/100\n",
      "891/891 [==============================] - 0s 34us/step - loss: 0.4765 - acc: 0.8227\n",
      "Epoch 79/100\n",
      "891/891 [==============================] - 0s 38us/step - loss: 0.4760 - acc: 0.8272\n",
      "Epoch 80/100\n",
      "891/891 [==============================] - 0s 36us/step - loss: 0.4747 - acc: 0.8272\n",
      "Epoch 81/100\n",
      "891/891 [==============================] - 0s 54us/step - loss: 0.4748 - acc: 0.8260\n",
      "Epoch 82/100\n",
      "891/891 [==============================] - 0s 34us/step - loss: 0.4743 - acc: 0.8260\n",
      "Epoch 83/100\n",
      "891/891 [==============================] - 0s 36us/step - loss: 0.4731 - acc: 0.8249\n",
      "Epoch 84/100\n",
      "891/891 [==============================] - 0s 35us/step - loss: 0.4721 - acc: 0.8272\n",
      "Epoch 85/100\n",
      "891/891 [==============================] - 0s 35us/step - loss: 0.4724 - acc: 0.8238\n",
      "Epoch 86/100\n",
      "891/891 [==============================] - 0s 36us/step - loss: 0.4715 - acc: 0.8272\n",
      "Epoch 87/100\n",
      "891/891 [==============================] - 0s 34us/step - loss: 0.4705 - acc: 0.8283\n",
      "Epoch 88/100\n",
      "891/891 [==============================] - 0s 36us/step - loss: 0.4693 - acc: 0.8249\n",
      "Epoch 89/100\n",
      "891/891 [==============================] - 0s 40us/step - loss: 0.4699 - acc: 0.8249\n",
      "Epoch 90/100\n",
      "891/891 [==============================] - 0s 35us/step - loss: 0.4690 - acc: 0.8249\n",
      "Epoch 91/100\n",
      "891/891 [==============================] - 0s 36us/step - loss: 0.4678 - acc: 0.8272\n",
      "Epoch 92/100\n",
      "891/891 [==============================] - 0s 42us/step - loss: 0.4673 - acc: 0.8283\n",
      "Epoch 93/100\n",
      "891/891 [==============================] - 0s 53us/step - loss: 0.4669 - acc: 0.8272\n",
      "Epoch 94/100\n",
      "891/891 [==============================] - 0s 36us/step - loss: 0.4698 - acc: 0.8294\n",
      "Epoch 95/100\n",
      "891/891 [==============================] - 0s 45us/step - loss: 0.4666 - acc: 0.8272\n",
      "Epoch 96/100\n",
      "891/891 [==============================] - 0s 42us/step - loss: 0.4656 - acc: 0.8272\n",
      "Epoch 97/100\n",
      "891/891 [==============================] - 0s 35us/step - loss: 0.4653 - acc: 0.8238\n",
      "Epoch 98/100\n",
      "891/891 [==============================] - 0s 40us/step - loss: 0.4643 - acc: 0.8272\n",
      "Epoch 99/100\n",
      "891/891 [==============================] - 0s 71us/step - loss: 0.4648 - acc: 0.8283\n",
      "Epoch 100/100\n",
      "891/891 [==============================] - 0s 38us/step - loss: 0.4642 - acc: 0.8272\n"
     ]
    },
    {
     "data": {
      "text/plain": [
       "<tensorflow.python.keras.callbacks.History at 0x19960232c18>"
      ]
     },
     "execution_count": 48,
     "metadata": {},
     "output_type": "execute_result"
    }
   ],
   "source": [
    "model.fit(train_data_X,train_data_y,epochs=100,batch_size=32)"
   ]
  },
  {
   "cell_type": "code",
   "execution_count": 49,
   "metadata": {
    "collapsed": false
   },
   "outputs": [],
   "source": [
    "test_y_pred_prob=model.predict(test_data_X).ravel()"
   ]
  },
  {
   "cell_type": "code",
   "execution_count": 50,
   "metadata": {
    "collapsed": true
   },
   "outputs": [],
   "source": [
    "y_test_pred=(test_y_pred_prob>0.5).astype(np.int)\n",
    "test_data_count['Survived']=y_test_pred\n",
    "test_data_count[['PassengerId','Survived']].to_csv('c:/users/dell/desktop/gender_submission.csv',index=False)"
   ]
  },
  {
   "cell_type": "code",
   "execution_count": null,
   "metadata": {
    "collapsed": true
   },
   "outputs": [],
   "source": []
  }
 ],
 "metadata": {
  "kernelspec": {
   "display_name": "Python [conda root]",
   "language": "python",
   "name": "conda-root-py"
  },
  "language_info": {
   "codemirror_mode": {
    "name": "ipython",
    "version": 3
   },
   "file_extension": ".py",
   "mimetype": "text/x-python",
   "name": "python",
   "nbconvert_exporter": "python",
   "pygments_lexer": "ipython3",
   "version": "3.5.2"
  }
 },
 "nbformat": 4,
 "nbformat_minor": 1
}
