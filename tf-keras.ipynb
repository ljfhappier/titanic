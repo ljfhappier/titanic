{
 "cells": [
  {
   "cell_type": "code",
   "execution_count": 1,
   "metadata": {},
   "outputs": [
    {
     "name": "stdout",
     "output_type": "stream",
     "text": [
      "1.13.1\n",
      "2.2.4-tf\n"
     ]
    }
   ],
   "source": [
    "import tensorflow as tf\n",
    "from tensorflow import keras\n",
    "#from tensorflow.keras import layers\n",
    "print (tf.VERSION)\n",
    "print (tf.keras.__version__)"
   ]
  },
  {
   "cell_type": "code",
   "execution_count": 2,
   "metadata": {},
   "outputs": [],
   "source": [
    "import numpy as np\n",
    "import pandas as pd\n",
    "import os\n",
    "\n",
    "path_folder=os.path.normcase(r'C:\\Users\\dell\\Downloads\\Titanic-maching-learning-from-disaster')\n",
    "train_data_origin=pd.read_csv(os.path.join(path_folder,'train.csv'),sep=',')\n",
    "test_data_origin=pd.read_csv(os.path.join(path_folder,'test.csv'),sep=',')"
   ]
  },
  {
   "cell_type": "markdown",
   "metadata": {},
   "source": [
    "Data preprocessing"
   ]
  },
  {
   "cell_type": "code",
   "execution_count": 4,
   "metadata": {},
   "outputs": [],
   "source": [
    "def deal_ticket_fare(df):\n",
    "    '''\n",
    "    计算每张票有几人共享，以及每人花费的船票钱\n",
    "    \n",
    "    paramters:\n",
    "        df--dataframe，待处理的数据表\n",
    "        \n",
    "    return:\n",
    "        df_count--处理后，添加新列的数据表\n",
    "    '''\n",
    "    num_of_tickets=df[['Ticket']].groupby(df['Ticket']).count()\n",
    "    num_of_tickets.columns=['num_of_tickets']\n",
    "    df_count=df.merge(num_of_tickets,left_on='Ticket',right_index=True,how='left')\n",
    "    df_count['fare_per_ticket']=df_count['Fare']/df_count['num_of_tickets']\n",
    "    return df_count\n",
    "\n",
    "cols=['Sex_T','Embarked_T','Age','Fare','fare_per_ticket','num_of_tickets','Pclass','SibSp','Parch']\n",
    "train_data_count=deal_ticket_fare(train_data_origin)\n",
    "trans_sex={'male':0,'female':1}\n",
    "trans_embarked={'S':0,'C':1,'Q':2}\n",
    "\n",
    "train_data_count['Sex_T']=train_data_count['Sex'].map(trans_sex)\n",
    "#from sklearn.impute import MissingIndicator\n",
    "#indicator=MissingIndicator(missing_values=np.nan)\n",
    "#train_missing_indicator=indicator.fit_transform(train_data_count)\n",
    "from sklearn.impute import SimpleImputer\n",
    "imp1=SimpleImputer(missing_values=np.nan,strategy='most_frequent')\n",
    "train_data_count['Embarked']=imp1.fit_transform(train_data_count[['Embarked']])\n",
    "imp2=SimpleImputer(missing_values=np.nan,strategy='mean')\n",
    "train_data_count['Age']=imp2.fit_transform(train_data_count[['Age']])\n",
    "train_data_count['Embarked_T']=train_data_count['Embarked'].map(trans_embarked).astype(np.int)\n",
    "cols=['Sex_T','Embarked_T','Age','Fare','fare_per_ticket','num_of_tickets','Pclass','SibSp','Parch']\n",
    "#X_train_data=train_data_count.reindex(columns=cols).values\n",
    "#y_train_data=train_data_count['Survived'].ravel()\n",
    "from sklearn.preprocessing import  OneHotEncoder\n",
    "enc=OneHotEncoder(handle_unknown='ignore')\n",
    "enc_train_features=enc.fit_transform(train_data_count[['Sex_T','Embarked_T']]).toarray()\n",
    "from sklearn.preprocessing import StandardScaler\n",
    "std_scaler=StandardScaler()\n",
    "sca_train_features=std_scaler.fit_transform(train_data_count[['Age','Fare','fare_per_ticket','num_of_tickets','Pclass','SibSp','Parch']].values.astype(np.float64))\n",
    "#sca_features.shape\n",
    "train_data_X=np.c_[enc_train_features,sca_train_features]\n",
    "train_data_y=train_data_count['Survived'].values.ravel()"
   ]
  },
  {
   "cell_type": "code",
   "execution_count": 5,
   "metadata": {},
   "outputs": [],
   "source": [
    "values_dict={'Fare':0.0}\n",
    "test_data_origin.fillna(value=values_dict,inplace=True)\n",
    "test_data_count=deal_ticket_fare(test_data_origin)\n",
    "test_data_count['Sex_T']=test_data_count['Sex'].map(trans_sex)\n",
    "test_data_count['Embarked']=imp1.transform(test_data_count[['Embarked']])\n",
    "test_data_count['Embarked_T']=test_data_count['Embarked'].map(trans_embarked).astype(np.int)\n",
    "test_data_count['Age']=imp2.transform(test_data_count[['Age']])\n",
    "enc_test_features=enc.fit_transform(test_data_count[['Sex_T','Embarked_T']]).toarray()\n",
    "sca_test_features=std_scaler.fit_transform(test_data_count[['Age','Fare','fare_per_ticket',\\\n",
    "                                                              'num_of_tickets','Pclass','SibSp','Parch']].values.astype(np.float64))\n",
    "test_data_X=np.c_[enc_test_features,sca_test_features]"
   ]
  },
  {
   "cell_type": "markdown",
   "metadata": {},
   "source": [
    "Model"
   ]
  },
  {
   "cell_type": "code",
   "execution_count": 6,
   "metadata": {},
   "outputs": [],
   "source": [
    "model=tf.keras.Sequential()\n",
    "model.add(tf.keras.layers.Dense(10,activation='relu'))\n",
    "model.add(tf.keras.layers.Dense(10,kernel_regularizer=tf.keras.regularizers.l1(0.01)))\n",
    "model.add(tf.keras.layers.Dense(7,activation='relu'))\n",
    "model.add(tf.keras.layers.Dense(7,kernel_regularizer=tf.keras.regularizers.l1(0.01)))\n",
    "model.add(tf.keras.layers.Dense(1,activation='sigmoid'))"
   ]
  },
  {
   "cell_type": "code",
   "execution_count": 7,
   "metadata": {},
   "outputs": [
    {
     "name": "stdout",
     "output_type": "stream",
     "text": [
      "WARNING:tensorflow:From D:\\Anaconda3\\envs\\tf\\lib\\site-packages\\tensorflow\\python\\ops\\resource_variable_ops.py:435: colocate_with (from tensorflow.python.framework.ops) is deprecated and will be removed in a future version.\n",
      "Instructions for updating:\n",
      "Colocations handled automatically by placer.\n"
     ]
    }
   ],
   "source": [
    "model.compile(optimizer=tf.train.AdamOptimizer(0.001),loss='binary_crossentropy',metrics=['accuracy'])"
   ]
  },
  {
   "cell_type": "code",
   "execution_count": 8,
   "metadata": {},
   "outputs": [
    {
     "name": "stdout",
     "output_type": "stream",
     "text": [
      "WARNING:tensorflow:From D:\\Anaconda3\\envs\\tf\\lib\\site-packages\\tensorflow\\python\\ops\\math_ops.py:3066: to_int32 (from tensorflow.python.ops.math_ops) is deprecated and will be removed in a future version.\n",
      "Instructions for updating:\n",
      "Use tf.cast instead.\n",
      "Epoch 1/100\n",
      "891/891 [==============================] - 1s 678us/sample - loss: 1.1109 - acc: 0.5915\n",
      "Epoch 2/100\n",
      "891/891 [==============================] - 0s 41us/sample - loss: 1.0250 - acc: 0.6700\n",
      "Epoch 3/100\n",
      "891/891 [==============================] - 0s 49us/sample - loss: 0.9783 - acc: 0.6790\n",
      "Epoch 4/100\n",
      "891/891 [==============================] - 0s 40us/sample - loss: 0.9410 - acc: 0.6835\n",
      "Epoch 5/100\n",
      "891/891 [==============================] - 0s 41us/sample - loss: 0.9051 - acc: 0.7048\n",
      "Epoch 6/100\n",
      "891/891 [==============================] - 0s 41us/sample - loss: 0.8687 - acc: 0.7116\n",
      "Epoch 7/100\n",
      "891/891 [==============================] - 0s 40us/sample - loss: 0.8337 - acc: 0.7250\n",
      "Epoch 8/100\n",
      "891/891 [==============================] - 0s 46us/sample - loss: 0.8012 - acc: 0.7329\n",
      "Epoch 9/100\n",
      "891/891 [==============================] - 0s 48us/sample - loss: 0.7668 - acc: 0.7419\n",
      "Epoch 10/100\n",
      "891/891 [==============================] - 0s 44us/sample - loss: 0.7354 - acc: 0.7553\n",
      "Epoch 11/100\n",
      "891/891 [==============================] - 0s 41us/sample - loss: 0.7064 - acc: 0.7722\n",
      "Epoch 12/100\n",
      "891/891 [==============================] - 0s 41us/sample - loss: 0.6789 - acc: 0.7823\n",
      "Epoch 13/100\n",
      "891/891 [==============================] - 0s 40us/sample - loss: 0.6565 - acc: 0.7879\n",
      "Epoch 14/100\n",
      "891/891 [==============================] - 0s 40us/sample - loss: 0.6376 - acc: 0.7901\n",
      "Epoch 15/100\n",
      "891/891 [==============================] - 0s 41us/sample - loss: 0.6186 - acc: 0.7991\n",
      "Epoch 16/100\n",
      "891/891 [==============================] - 0s 44us/sample - loss: 0.6022 - acc: 0.8013\n",
      "Epoch 17/100\n",
      "891/891 [==============================] - 0s 41us/sample - loss: 0.5887 - acc: 0.8002\n",
      "Epoch 18/100\n",
      "891/891 [==============================] - 0s 41us/sample - loss: 0.5751 - acc: 0.8058\n",
      "Epoch 19/100\n",
      "891/891 [==============================] - 0s 43us/sample - loss: 0.5643 - acc: 0.8081\n",
      "Epoch 20/100\n",
      "891/891 [==============================] - 0s 40us/sample - loss: 0.5565 - acc: 0.8058\n",
      "Epoch 21/100\n",
      "891/891 [==============================] - 0s 41us/sample - loss: 0.5468 - acc: 0.8036\n",
      "Epoch 22/100\n",
      "891/891 [==============================] - 0s 40us/sample - loss: 0.5389 - acc: 0.8070\n",
      "Epoch 23/100\n",
      "891/891 [==============================] - 0s 40us/sample - loss: 0.5323 - acc: 0.8036\n",
      "Epoch 24/100\n",
      "891/891 [==============================] - 0s 39us/sample - loss: 0.5268 - acc: 0.8025\n",
      "Epoch 25/100\n",
      "891/891 [==============================] - 0s 44us/sample - loss: 0.5215 - acc: 0.8081\n",
      "Epoch 26/100\n",
      "891/891 [==============================] - 0s 40us/sample - loss: 0.5163 - acc: 0.8058\n",
      "Epoch 27/100\n",
      "891/891 [==============================] - 0s 41us/sample - loss: 0.5116 - acc: 0.8070\n",
      "Epoch 28/100\n",
      "891/891 [==============================] - 0s 43us/sample - loss: 0.5085 - acc: 0.8047\n",
      "Epoch 29/100\n",
      "891/891 [==============================] - 0s 40us/sample - loss: 0.5031 - acc: 0.8070\n",
      "Epoch 30/100\n",
      "891/891 [==============================] - 0s 39us/sample - loss: 0.4999 - acc: 0.8137\n",
      "Epoch 31/100\n",
      "891/891 [==============================] - 0s 39us/sample - loss: 0.4977 - acc: 0.8126\n",
      "Epoch 32/100\n",
      "891/891 [==============================] - 0s 41us/sample - loss: 0.4951 - acc: 0.8126\n",
      "Epoch 33/100\n",
      "891/891 [==============================] - 0s 45us/sample - loss: 0.4922 - acc: 0.8137\n",
      "Epoch 34/100\n",
      "891/891 [==============================] - 0s 41us/sample - loss: 0.4875 - acc: 0.8126\n",
      "Epoch 35/100\n",
      "891/891 [==============================] - 0s 39us/sample - loss: 0.4850 - acc: 0.8126\n",
      "Epoch 36/100\n",
      "891/891 [==============================] - 0s 39us/sample - loss: 0.4858 - acc: 0.8103\n",
      "Epoch 37/100\n",
      "891/891 [==============================] - 0s 39us/sample - loss: 0.4802 - acc: 0.8159\n",
      "Epoch 38/100\n",
      "891/891 [==============================] - 0s 41us/sample - loss: 0.4803 - acc: 0.8171\n",
      "Epoch 39/100\n",
      "891/891 [==============================] - 0s 40us/sample - loss: 0.4764 - acc: 0.8159\n",
      "Epoch 40/100\n",
      "891/891 [==============================] - 0s 41us/sample - loss: 0.4736 - acc: 0.8171\n",
      "Epoch 41/100\n",
      "891/891 [==============================] - 0s 41us/sample - loss: 0.4727 - acc: 0.8182\n",
      "Epoch 42/100\n",
      "891/891 [==============================] - 0s 40us/sample - loss: 0.4715 - acc: 0.8193\n",
      "Epoch 43/100\n",
      "891/891 [==============================] - 0s 41us/sample - loss: 0.4701 - acc: 0.8204\n",
      "Epoch 44/100\n",
      "891/891 [==============================] - 0s 41us/sample - loss: 0.4693 - acc: 0.8159\n",
      "Epoch 45/100\n",
      "891/891 [==============================] - 0s 41us/sample - loss: 0.4679 - acc: 0.8215\n",
      "Epoch 46/100\n",
      "891/891 [==============================] - 0s 47us/sample - loss: 0.4671 - acc: 0.8171\n",
      "Epoch 47/100\n",
      "891/891 [==============================] - 0s 44us/sample - loss: 0.4668 - acc: 0.8148\n",
      "Epoch 48/100\n",
      "891/891 [==============================] - 0s 40us/sample - loss: 0.4656 - acc: 0.8238\n",
      "Epoch 49/100\n",
      "891/891 [==============================] - 0s 43us/sample - loss: 0.4654 - acc: 0.8193\n",
      "Epoch 50/100\n",
      "891/891 [==============================] - 0s 40us/sample - loss: 0.4703 - acc: 0.8182\n",
      "Epoch 51/100\n",
      "891/891 [==============================] - 0s 41us/sample - loss: 0.4641 - acc: 0.8249\n",
      "Epoch 52/100\n",
      "891/891 [==============================] - 0s 43us/sample - loss: 0.4624 - acc: 0.8215\n",
      "Epoch 53/100\n",
      "891/891 [==============================] - 0s 41us/sample - loss: 0.4616 - acc: 0.8260\n",
      "Epoch 54/100\n",
      "891/891 [==============================] - 0s 41us/sample - loss: 0.4600 - acc: 0.8193\n",
      "Epoch 55/100\n",
      "891/891 [==============================] - 0s 40us/sample - loss: 0.4597 - acc: 0.8249\n",
      "Epoch 56/100\n",
      "891/891 [==============================] - 0s 40us/sample - loss: 0.4596 - acc: 0.8260\n",
      "Epoch 57/100\n",
      "891/891 [==============================] - 0s 43us/sample - loss: 0.4576 - acc: 0.8272\n",
      "Epoch 58/100\n",
      "891/891 [==============================] - 0s 39us/sample - loss: 0.4564 - acc: 0.8260\n",
      "Epoch 59/100\n",
      "891/891 [==============================] - 0s 41us/sample - loss: 0.4565 - acc: 0.8249\n",
      "Epoch 60/100\n",
      "891/891 [==============================] - 0s 37us/sample - loss: 0.4557 - acc: 0.8227\n",
      "Epoch 61/100\n",
      "891/891 [==============================] - 0s 39us/sample - loss: 0.4550 - acc: 0.8249\n",
      "Epoch 62/100\n",
      "891/891 [==============================] - 0s 40us/sample - loss: 0.4552 - acc: 0.8260\n",
      "Epoch 63/100\n",
      "891/891 [==============================] - 0s 46us/sample - loss: 0.4543 - acc: 0.8260\n",
      "Epoch 64/100\n",
      "891/891 [==============================] - 0s 44us/sample - loss: 0.4522 - acc: 0.8238\n",
      "Epoch 65/100\n",
      "891/891 [==============================] - 0s 40us/sample - loss: 0.4510 - acc: 0.8260\n",
      "Epoch 66/100\n",
      "891/891 [==============================] - 0s 38us/sample - loss: 0.4510 - acc: 0.8249\n",
      "Epoch 67/100\n",
      "891/891 [==============================] - 0s 40us/sample - loss: 0.4511 - acc: 0.8215\n",
      "Epoch 68/100\n",
      "891/891 [==============================] - 0s 39us/sample - loss: 0.4507 - acc: 0.8350\n",
      "Epoch 69/100\n",
      "891/891 [==============================] - 0s 39us/sample - loss: 0.4503 - acc: 0.8283\n",
      "Epoch 70/100\n",
      "891/891 [==============================] - 0s 40us/sample - loss: 0.4495 - acc: 0.8260\n",
      "Epoch 71/100\n",
      "891/891 [==============================] - 0s 40us/sample - loss: 0.4485 - acc: 0.8249\n",
      "Epoch 72/100\n",
      "891/891 [==============================] - 0s 38us/sample - loss: 0.4480 - acc: 0.8272\n",
      "Epoch 73/100\n",
      "891/891 [==============================] - 0s 39us/sample - loss: 0.4493 - acc: 0.8294\n",
      "Epoch 74/100\n",
      "891/891 [==============================] - 0s 41us/sample - loss: 0.4472 - acc: 0.8305\n",
      "Epoch 75/100\n",
      "891/891 [==============================] - 0s 39us/sample - loss: 0.4481 - acc: 0.8260\n",
      "Epoch 76/100\n",
      "891/891 [==============================] - 0s 38us/sample - loss: 0.4460 - acc: 0.8328\n",
      "Epoch 77/100\n",
      "891/891 [==============================] - 0s 38us/sample - loss: 0.4461 - acc: 0.8193\n",
      "Epoch 78/100\n",
      "891/891 [==============================] - 0s 39us/sample - loss: 0.4449 - acc: 0.8249\n",
      "Epoch 79/100\n",
      "891/891 [==============================] - 0s 41us/sample - loss: 0.4444 - acc: 0.8328\n",
      "Epoch 80/100\n"
     ]
    },
    {
     "name": "stdout",
     "output_type": "stream",
     "text": [
      "891/891 [==============================] - 0s 38us/sample - loss: 0.4447 - acc: 0.8316\n",
      "Epoch 81/100\n",
      "891/891 [==============================] - 0s 39us/sample - loss: 0.4439 - acc: 0.8272\n",
      "Epoch 82/100\n",
      "891/891 [==============================] - 0s 43us/sample - loss: 0.4446 - acc: 0.8215\n",
      "Epoch 83/100\n",
      "891/891 [==============================] - 0s 43us/sample - loss: 0.4435 - acc: 0.8328\n",
      "Epoch 84/100\n",
      "891/891 [==============================] - 0s 47us/sample - loss: 0.4431 - acc: 0.8283\n",
      "Epoch 85/100\n",
      "891/891 [==============================] - 0s 43us/sample - loss: 0.4413 - acc: 0.8294\n",
      "Epoch 86/100\n",
      "891/891 [==============================] - 0s 39us/sample - loss: 0.4418 - acc: 0.8283\n",
      "Epoch 87/100\n",
      "891/891 [==============================] - 0s 39us/sample - loss: 0.4422 - acc: 0.8272\n",
      "Epoch 88/100\n",
      "891/891 [==============================] - 0s 40us/sample - loss: 0.4412 - acc: 0.8305\n",
      "Epoch 89/100\n",
      "891/891 [==============================] - 0s 39us/sample - loss: 0.4410 - acc: 0.8316\n",
      "Epoch 90/100\n",
      "891/891 [==============================] - 0s 40us/sample - loss: 0.4419 - acc: 0.8272\n",
      "Epoch 91/100\n",
      "891/891 [==============================] - 0s 38us/sample - loss: 0.4413 - acc: 0.8294\n",
      "Epoch 92/100\n",
      "891/891 [==============================] - 0s 38us/sample - loss: 0.4395 - acc: 0.8316\n",
      "Epoch 93/100\n",
      "891/891 [==============================] - 0s 44us/sample - loss: 0.4410 - acc: 0.8294\n",
      "Epoch 94/100\n",
      "891/891 [==============================] - 0s 39us/sample - loss: 0.4424 - acc: 0.8328\n",
      "Epoch 95/100\n",
      "891/891 [==============================] - 0s 39us/sample - loss: 0.4406 - acc: 0.8272\n",
      "Epoch 96/100\n",
      "891/891 [==============================] - 0s 41us/sample - loss: 0.4394 - acc: 0.8283\n",
      "Epoch 97/100\n",
      "891/891 [==============================] - 0s 44us/sample - loss: 0.4376 - acc: 0.8305\n",
      "Epoch 98/100\n",
      "891/891 [==============================] - 0s 50us/sample - loss: 0.4372 - acc: 0.8361\n",
      "Epoch 99/100\n",
      "891/891 [==============================] - 0s 46us/sample - loss: 0.4369 - acc: 0.8339\n",
      "Epoch 100/100\n",
      "891/891 [==============================] - 0s 43us/sample - loss: 0.4371 - acc: 0.8361\n"
     ]
    },
    {
     "data": {
      "text/plain": [
       "<tensorflow.python.keras.callbacks.History at 0x157abeaa8d0>"
      ]
     },
     "execution_count": 8,
     "metadata": {},
     "output_type": "execute_result"
    }
   ],
   "source": [
    "model.fit(train_data_X,train_data_y,epochs=100,batch_size=32)"
   ]
  },
  {
   "cell_type": "code",
   "execution_count": 9,
   "metadata": {},
   "outputs": [],
   "source": [
    "test_y_pred_prob=model.predict(test_data_X).ravel()"
   ]
  },
  {
   "cell_type": "code",
   "execution_count": 10,
   "metadata": {},
   "outputs": [],
   "source": [
    "y_test_pred=(test_y_pred_prob>0.5).astype(np.int)\n",
    "test_data_count['Survived']=y_test_pred\n",
    "test_data_count[['PassengerId','Survived']].to_csv('c:/users/dell/desktop/gender_submission.csv',index=False)"
   ]
  },
  {
   "cell_type": "code",
   "execution_count": null,
   "metadata": {
    "collapsed": true
   },
   "outputs": [],
   "source": []
  }
 ],
 "metadata": {
  "anaconda-cloud": {},
  "kernelspec": {
   "display_name": "tf",
   "language": "python",
   "name": "tf"
  },
  "language_info": {
   "codemirror_mode": {
    "name": "ipython",
    "version": 3
   },
   "file_extension": ".py",
   "mimetype": "text/x-python",
   "name": "python",
   "nbconvert_exporter": "python",
   "pygments_lexer": "ipython3",
   "version": "3.6.2"
  },
  "toc": {
   "base_numbering": 1,
   "nav_menu": {},
   "number_sections": true,
   "sideBar": true,
   "skip_h1_title": false,
   "title_cell": "Table of Contents",
   "title_sidebar": "Contents",
   "toc_cell": false,
   "toc_position": {},
   "toc_section_display": true,
   "toc_window_display": false
  }
 },
 "nbformat": 4,
 "nbformat_minor": 1
}
