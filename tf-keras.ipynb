{
 "cells": [
  {
   "cell_type": "code",
   "execution_count": 3,
   "metadata": {
    "collapsed": false
   },
   "outputs": [
    {
     "name": "stdout",
     "output_type": "stream",
     "text": [
      "1.12.0\n",
      "2.1.6-tf\n"
     ]
    }
   ],
   "source": [
    "import tensorflow as tf\n",
    "from tensorflow import keras\n",
    "#from tensorflow.keras import layers\n",
    "\n",
    "print (tf.VERSION)\n",
    "print (tf.keras.__version__)"
   ]
  },
  {
   "cell_type": "code",
   "execution_count": 4,
   "metadata": {
    "collapsed": true
   },
   "outputs": [],
   "source": [
    "import numpy as np\n",
    "import pandas as pd\n",
    "import os\n",
    "\n",
    "path_folder=os.path.normcase(r'C:\\Users\\dell\\Downloads\\Titanic-maching-learning-from-disaster')\n",
    "train_data_origin=pd.read_csv(os.path.join(path_folder,'train.csv'),sep=',')\n",
    "test_data_origin=pd.read_csv(os.path.join(path_folder,'test.csv'),sep=',')"
   ]
  },
  {
   "cell_type": "markdown",
   "metadata": {},
   "source": [
    "Data preprocessing"
   ]
  },
  {
   "cell_type": "code",
   "execution_count": 27,
   "metadata": {
    "collapsed": false
   },
   "outputs": [],
   "source": [
    "def deal_ticket_fare(df):\n",
    "    '''\n",
    "    计算每张票有几人共享，以及每人花费的船票钱\n",
    "    \n",
    "    paramters:\n",
    "        df--dataframe，待处理的数据表\n",
    "        \n",
    "    return:\n",
    "        df_count--处理后，添加新列的数据表\n",
    "    '''\n",
    "    num_of_tickets=df[['Ticket']].groupby(df['Ticket']).count()\n",
    "    num_of_tickets.columns=['num_of_tickets']\n",
    "    df_count=df.merge(num_of_tickets,left_on='Ticket',right_index=True,how='left')\n",
    "    df_count['fare_per_ticket']=df_count['Fare']/df_count['num_of_tickets']\n",
    "    return df_count\n",
    "\n",
    "cols=['Sex_T','Embarked_T','Age','Fare','fare_per_ticket','num_of_tickets','Pclass','SibSp','Parch']\n",
    "train_data_count=deal_ticket_fare(train_data_origin)\n",
    "trans_sex={'male':0,'female':1}\n",
    "trans_embarked={'S':0,'C':1,'Q':2}\n",
    "\n",
    "train_data_count['Sex_T']=train_data_count['Sex'].map(trans_sex)\n",
    "#from sklearn.impute import MissingIndicator\n",
    "#indicator=MissingIndicator(missing_values=np.nan)\n",
    "#train_missing_indicator=indicator.fit_transform(train_data_count)\n",
    "from sklearn.impute import SimpleImputer\n",
    "imp1=SimpleImputer(missing_values=np.nan,strategy='most_frequent')\n",
    "train_data_count['Embarked']=imp1.fit_transform(train_data_count[['Embarked']])\n",
    "imp2=SimpleImputer(missing_values=np.nan,strategy='mean')\n",
    "train_data_count['Age']=imp2.fit_transform(train_data_count[['Age']])\n",
    "train_data_count['Embarked_T']=train_data_count['Embarked'].map(trans_embarked).astype(np.int)\n",
    "cols=['Sex_T','Embarked_T','Age','Fare','fare_per_ticket','num_of_tickets','Pclass','SibSp','Parch']\n",
    "#X_train_data=train_data_count.reindex(columns=cols).values\n",
    "#y_train_data=train_data_count['Survived'].ravel()\n",
    "from sklearn.preprocessing import  OneHotEncoder\n",
    "enc=OneHotEncoder(handle_unknown='ignore')\n",
    "enc_train_features=enc.fit_transform(train_data_count[['Sex_T','Embarked_T']]).toarray()\n",
    "from sklearn.preprocessing import StandardScaler\n",
    "std_scaler=StandardScaler()\n",
    "sca_train_features=std_scaler.fit_transform(train_data_count[['Age','Fare','fare_per_ticket','num_of_tickets','Pclass','SibSp','Parch']].values.astype(np.float64))\n",
    "#sca_features.shape\n",
    "train_data_X=np.c_[enc_train_features,sca_train_features]\n",
    "train_data_y=train_data_count['Survived'].values.ravel()"
   ]
  },
  {
   "cell_type": "code",
   "execution_count": 28,
   "metadata": {
    "collapsed": true
   },
   "outputs": [],
   "source": [
    "values_dict={'Fare':0.0}\n",
    "test_data_origin.fillna(value=values_dict,inplace=True)\n",
    "test_data_count=deal_ticket_fare(test_data_origin)\n",
    "test_data_count['Sex_T']=test_data_count['Sex'].map(trans_sex)\n",
    "test_data_count['Embarked']=imp1.transform(test_data_count[['Embarked']])\n",
    "test_data_count['Embarked_T']=test_data_count['Embarked'].map(trans_embarked).astype(np.int)\n",
    "test_data_count['Age']=imp2.transform(test_data_count[['Age']])\n",
    "enc_test_features=enc.fit_transform(test_data_count[['Sex_T','Embarked_T']]).toarray()\n",
    "sca_test_features=std_scaler.fit_transform(test_data_count[['Age','Fare','fare_per_ticket',\\\n",
    "                                                              'num_of_tickets','Pclass','SibSp','Parch']].values.astype(np.float64))\n",
    "test_data_X=np.c_[enc_test_features,sca_test_features]"
   ]
  },
  {
   "cell_type": "markdown",
   "metadata": {},
   "source": [
    "Model"
   ]
  },
  {
   "cell_type": "code",
   "execution_count": 36,
   "metadata": {
    "collapsed": true
   },
   "outputs": [],
   "source": [
    "model=tf.keras.Sequential()\n",
    "model.add(tf.keras.layers.Dense(7,activation='relu'))\n",
    "model.add(tf.keras.layers.Dense(7,activation='relu'))\n",
    "model.add(tf.keras.layers.Dense(1,activation='sigmoid'))"
   ]
  },
  {
   "cell_type": "code",
   "execution_count": 37,
   "metadata": {
    "collapsed": true
   },
   "outputs": [],
   "source": [
    "model.compile(optimizer=tf.train.AdamOptimizer(0.001),loss='binary_crossentropy',metrics=['accuracy'])"
   ]
  },
  {
   "cell_type": "code",
   "execution_count": 38,
   "metadata": {
    "collapsed": false
   },
   "outputs": [
    {
     "name": "stdout",
     "output_type": "stream",
     "text": [
      "Epoch 1/100\n",
      "891/891 [==============================] - 0s 355us/step - loss: 0.7403 - acc: 0.3692\n",
      "Epoch 2/100\n",
      "891/891 [==============================] - 0s 33us/step - loss: 0.6950 - acc: 0.5578\n",
      "Epoch 3/100\n",
      "891/891 [==============================] - 0s 36us/step - loss: 0.6604 - acc: 0.6004\n",
      "Epoch 4/100\n",
      "891/891 [==============================] - 0s 33us/step - loss: 0.6328 - acc: 0.6476\n",
      "Epoch 5/100\n",
      "891/891 [==============================] - 0s 33us/step - loss: 0.6088 - acc: 0.6554\n",
      "Epoch 6/100\n",
      "891/891 [==============================] - 0s 33us/step - loss: 0.5889 - acc: 0.6655\n",
      "Epoch 7/100\n",
      "891/891 [==============================] - 0s 33us/step - loss: 0.5733 - acc: 0.6835\n",
      "Epoch 8/100\n",
      "891/891 [==============================] - 0s 35us/step - loss: 0.5603 - acc: 0.6869\n",
      "Epoch 9/100\n",
      "891/891 [==============================] - 0s 35us/step - loss: 0.5492 - acc: 0.6880\n",
      "Epoch 10/100\n",
      "891/891 [==============================] - 0s 34us/step - loss: 0.5390 - acc: 0.6914\n",
      "Epoch 11/100\n",
      "891/891 [==============================] - 0s 33us/step - loss: 0.5293 - acc: 0.6958\n",
      "Epoch 12/100\n",
      "891/891 [==============================] - 0s 31us/step - loss: 0.5203 - acc: 0.7048\n",
      "Epoch 13/100\n",
      "891/891 [==============================] - 0s 36us/step - loss: 0.5115 - acc: 0.7183\n",
      "Epoch 14/100\n",
      "891/891 [==============================] - 0s 33us/step - loss: 0.5030 - acc: 0.7351\n",
      "Epoch 15/100\n",
      "891/891 [==============================] - 0s 36us/step - loss: 0.4950 - acc: 0.7396\n",
      "Epoch 16/100\n",
      "891/891 [==============================] - 0s 33us/step - loss: 0.4878 - acc: 0.7452\n",
      "Epoch 17/100\n",
      "891/891 [==============================] - 0s 38us/step - loss: 0.4807 - acc: 0.7609\n",
      "Epoch 18/100\n",
      "891/891 [==============================] - 0s 33us/step - loss: 0.4738 - acc: 0.7733\n",
      "Epoch 19/100\n",
      "891/891 [==============================] - 0s 33us/step - loss: 0.4678 - acc: 0.7879\n",
      "Epoch 20/100\n",
      "891/891 [==============================] - 0s 36us/step - loss: 0.4614 - acc: 0.7924\n",
      "Epoch 21/100\n",
      "891/891 [==============================] - 0s 33us/step - loss: 0.4559 - acc: 0.7991\n",
      "Epoch 22/100\n",
      "891/891 [==============================] - 0s 38us/step - loss: 0.4506 - acc: 0.8025\n",
      "Epoch 23/100\n",
      "891/891 [==============================] - 0s 37us/step - loss: 0.4461 - acc: 0.8058\n",
      "Epoch 24/100\n",
      "891/891 [==============================] - 0s 34us/step - loss: 0.4416 - acc: 0.8013\n",
      "Epoch 25/100\n",
      "891/891 [==============================] - 0s 46us/step - loss: 0.4382 - acc: 0.8092\n",
      "Epoch 26/100\n",
      "891/891 [==============================] - 0s 38us/step - loss: 0.4339 - acc: 0.8081\n",
      "Epoch 27/100\n",
      "891/891 [==============================] - 0s 37us/step - loss: 0.4308 - acc: 0.8103\n",
      "Epoch 28/100\n",
      "891/891 [==============================] - 0s 39us/step - loss: 0.4276 - acc: 0.8092\n",
      "Epoch 29/100\n",
      "891/891 [==============================] - 0s 40us/step - loss: 0.4247 - acc: 0.8137\n",
      "Epoch 30/100\n",
      "891/891 [==============================] - 0s 38us/step - loss: 0.4225 - acc: 0.8182\n",
      "Epoch 31/100\n",
      "891/891 [==============================] - 0s 35us/step - loss: 0.4197 - acc: 0.8182\n",
      "Epoch 32/100\n",
      "891/891 [==============================] - 0s 40us/step - loss: 0.4181 - acc: 0.8193\n",
      "Epoch 33/100\n",
      "891/891 [==============================] - 0s 35us/step - loss: 0.4160 - acc: 0.8215\n",
      "Epoch 34/100\n",
      "891/891 [==============================] - 0s 37us/step - loss: 0.4139 - acc: 0.8238\n",
      "Epoch 35/100\n",
      "891/891 [==============================] - 0s 36us/step - loss: 0.4125 - acc: 0.8215\n",
      "Epoch 36/100\n",
      "891/891 [==============================] - 0s 44us/step - loss: 0.4109 - acc: 0.8249\n",
      "Epoch 37/100\n",
      "891/891 [==============================] - 0s 44us/step - loss: 0.4096 - acc: 0.8227\n",
      "Epoch 38/100\n",
      "891/891 [==============================] - 0s 44us/step - loss: 0.4083 - acc: 0.8249\n",
      "Epoch 39/100\n",
      "891/891 [==============================] - 0s 48us/step - loss: 0.4075 - acc: 0.8260\n",
      "Epoch 40/100\n",
      "891/891 [==============================] - 0s 40us/step - loss: 0.4063 - acc: 0.8238\n",
      "Epoch 41/100\n",
      "891/891 [==============================] - 0s 39us/step - loss: 0.4053 - acc: 0.8238\n",
      "Epoch 42/100\n",
      "891/891 [==============================] - 0s 40us/step - loss: 0.4046 - acc: 0.8249\n",
      "Epoch 43/100\n",
      "891/891 [==============================] - 0s 50us/step - loss: 0.4040 - acc: 0.8227\n",
      "Epoch 44/100\n",
      "891/891 [==============================] - 0s 41us/step - loss: 0.4031 - acc: 0.8249\n",
      "Epoch 45/100\n",
      "891/891 [==============================] - 0s 41us/step - loss: 0.4025 - acc: 0.8227\n",
      "Epoch 46/100\n",
      "891/891 [==============================] - 0s 46us/step - loss: 0.4019 - acc: 0.8249\n",
      "Epoch 47/100\n",
      "891/891 [==============================] - 0s 33us/step - loss: 0.4015 - acc: 0.8283\n",
      "Epoch 48/100\n",
      "891/891 [==============================] - 0s 34us/step - loss: 0.4003 - acc: 0.8260\n",
      "Epoch 49/100\n",
      "891/891 [==============================] - 0s 29us/step - loss: 0.3998 - acc: 0.8249\n",
      "Epoch 50/100\n",
      "891/891 [==============================] - 0s 29us/step - loss: 0.3994 - acc: 0.8260\n",
      "Epoch 51/100\n",
      "891/891 [==============================] - 0s 33us/step - loss: 0.3988 - acc: 0.8272\n",
      "Epoch 52/100\n",
      "891/891 [==============================] - 0s 38us/step - loss: 0.3997 - acc: 0.8249\n",
      "Epoch 53/100\n",
      "891/891 [==============================] - 0s 59us/step - loss: 0.3976 - acc: 0.8283\n",
      "Epoch 54/100\n",
      "891/891 [==============================] - 0s 54us/step - loss: 0.3973 - acc: 0.8294\n",
      "Epoch 55/100\n",
      "891/891 [==============================] - 0s 43us/step - loss: 0.3964 - acc: 0.8283\n",
      "Epoch 56/100\n",
      "891/891 [==============================] - 0s 31us/step - loss: 0.3965 - acc: 0.8283\n",
      "Epoch 57/100\n",
      "891/891 [==============================] - 0s 29us/step - loss: 0.3959 - acc: 0.8283\n",
      "Epoch 58/100\n",
      "891/891 [==============================] - 0s 29us/step - loss: 0.3956 - acc: 0.8283\n",
      "Epoch 59/100\n",
      "891/891 [==============================] - 0s 29us/step - loss: 0.3958 - acc: 0.8260\n",
      "Epoch 60/100\n",
      "891/891 [==============================] - 0s 30us/step - loss: 0.3948 - acc: 0.8305\n",
      "Epoch 61/100\n",
      "891/891 [==============================] - 0s 29us/step - loss: 0.3946 - acc: 0.8272\n",
      "Epoch 62/100\n",
      "891/891 [==============================] - 0s 29us/step - loss: 0.3944 - acc: 0.8283\n",
      "Epoch 63/100\n",
      "891/891 [==============================] - 0s 29us/step - loss: 0.3938 - acc: 0.8294\n",
      "Epoch 64/100\n",
      "891/891 [==============================] - 0s 29us/step - loss: 0.3936 - acc: 0.8283\n",
      "Epoch 65/100\n",
      "891/891 [==============================] - 0s 30us/step - loss: 0.3930 - acc: 0.8294\n",
      "Epoch 66/100\n",
      "891/891 [==============================] - 0s 30us/step - loss: 0.3926 - acc: 0.8260\n",
      "Epoch 67/100\n",
      "891/891 [==============================] - 0s 29us/step - loss: 0.3925 - acc: 0.8305\n",
      "Epoch 68/100\n",
      "891/891 [==============================] - 0s 29us/step - loss: 0.3921 - acc: 0.8283\n",
      "Epoch 69/100\n",
      "891/891 [==============================] - 0s 29us/step - loss: 0.3920 - acc: 0.8283\n",
      "Epoch 70/100\n",
      "891/891 [==============================] - 0s 29us/step - loss: 0.3914 - acc: 0.8294\n",
      "Epoch 71/100\n",
      "891/891 [==============================] - 0s 30us/step - loss: 0.3914 - acc: 0.8305\n",
      "Epoch 72/100\n",
      "891/891 [==============================] - 0s 29us/step - loss: 0.3913 - acc: 0.8272\n",
      "Epoch 73/100\n",
      "891/891 [==============================] - 0s 29us/step - loss: 0.3905 - acc: 0.8316\n",
      "Epoch 74/100\n",
      "891/891 [==============================] - 0s 29us/step - loss: 0.3904 - acc: 0.8316\n",
      "Epoch 75/100\n",
      "891/891 [==============================] - 0s 30us/step - loss: 0.3895 - acc: 0.8283\n",
      "Epoch 76/100\n",
      "891/891 [==============================] - 0s 29us/step - loss: 0.3894 - acc: 0.8272\n",
      "Epoch 77/100\n",
      "891/891 [==============================] - 0s 29us/step - loss: 0.3892 - acc: 0.8328\n",
      "Epoch 78/100\n",
      "891/891 [==============================] - 0s 29us/step - loss: 0.3885 - acc: 0.8339\n",
      "Epoch 79/100\n",
      "891/891 [==============================] - 0s 31us/step - loss: 0.3886 - acc: 0.8361\n",
      "Epoch 80/100\n",
      "891/891 [==============================] - 0s 30us/step - loss: 0.3885 - acc: 0.8328\n",
      "Epoch 81/100\n",
      "891/891 [==============================] - 0s 29us/step - loss: 0.3882 - acc: 0.8384\n",
      "Epoch 82/100\n",
      "891/891 [==============================] - 0s 29us/step - loss: 0.3880 - acc: 0.8373\n",
      "Epoch 83/100\n",
      "891/891 [==============================] - 0s 30us/step - loss: 0.3877 - acc: 0.8384\n",
      "Epoch 84/100\n",
      "891/891 [==============================] - 0s 30us/step - loss: 0.3861 - acc: 0.8384\n",
      "Epoch 85/100\n",
      "891/891 [==============================] - 0s 29us/step - loss: 0.3864 - acc: 0.8350\n",
      "Epoch 86/100\n",
      "891/891 [==============================] - 0s 30us/step - loss: 0.3858 - acc: 0.8328\n",
      "Epoch 87/100\n",
      "891/891 [==============================] - 0s 28us/step - loss: 0.3859 - acc: 0.8361\n",
      "Epoch 88/100\n",
      "891/891 [==============================] - 0s 30us/step - loss: 0.3854 - acc: 0.8373\n",
      "Epoch 89/100\n",
      "891/891 [==============================] - 0s 30us/step - loss: 0.3851 - acc: 0.8361\n",
      "Epoch 90/100\n",
      "891/891 [==============================] - 0s 29us/step - loss: 0.3849 - acc: 0.8373\n",
      "Epoch 91/100\n",
      "891/891 [==============================] - 0s 29us/step - loss: 0.3853 - acc: 0.8384\n",
      "Epoch 92/100\n",
      "891/891 [==============================] - 0s 30us/step - loss: 0.3846 - acc: 0.8384\n",
      "Epoch 93/100\n",
      "891/891 [==============================] - 0s 34us/step - loss: 0.3842 - acc: 0.8384\n",
      "Epoch 94/100\n",
      "891/891 [==============================] - 0s 30us/step - loss: 0.3843 - acc: 0.8339\n",
      "Epoch 95/100\n",
      "891/891 [==============================] - 0s 29us/step - loss: 0.3840 - acc: 0.8361\n",
      "Epoch 96/100\n",
      "891/891 [==============================] - 0s 30us/step - loss: 0.3833 - acc: 0.8373\n",
      "Epoch 97/100\n",
      "891/891 [==============================] - 0s 30us/step - loss: 0.3830 - acc: 0.8361\n",
      "Epoch 98/100\n",
      "891/891 [==============================] - 0s 29us/step - loss: 0.3829 - acc: 0.8395\n",
      "Epoch 99/100\n",
      "891/891 [==============================] - 0s 30us/step - loss: 0.3826 - acc: 0.8395\n",
      "Epoch 100/100\n",
      "891/891 [==============================] - 0s 29us/step - loss: 0.3833 - acc: 0.8384\n"
     ]
    },
    {
     "data": {
      "text/plain": [
       "<tensorflow.python.keras.callbacks.History at 0x1995ee67d68>"
      ]
     },
     "execution_count": 38,
     "metadata": {},
     "output_type": "execute_result"
    }
   ],
   "source": [
    "model.fit(train_data_X,train_data_y,epochs=100,batch_size=32)"
   ]
  },
  {
   "cell_type": "code",
   "execution_count": 43,
   "metadata": {
    "collapsed": false
   },
   "outputs": [],
   "source": [
    "test_y_pred_prob=model.predict(test_data_X).ravel()"
   ]
  },
  {
   "cell_type": "code",
   "execution_count": 44,
   "metadata": {
    "collapsed": true
   },
   "outputs": [],
   "source": [
    "y_test_pred=(test_y_pred_prob>0.5).astype(np.int)\n",
    "test_data_count['Survived']=y_test_pred\n",
    "test_data_count[['PassengerId','Survived']].to_csv('c:/users/dell/desktop/gender_submission.csv',index=False)"
   ]
  },
  {
   "cell_type": "code",
   "execution_count": null,
   "metadata": {
    "collapsed": true
   },
   "outputs": [],
   "source": []
  }
 ],
 "metadata": {
  "kernelspec": {
   "display_name": "Python [conda root]",
   "language": "python",
   "name": "conda-root-py"
  },
  "language_info": {
   "codemirror_mode": {
    "name": "ipython",
    "version": 3
   },
   "file_extension": ".py",
   "mimetype": "text/x-python",
   "name": "python",
   "nbconvert_exporter": "python",
   "pygments_lexer": "ipython3",
   "version": "3.5.2"
  }
 },
 "nbformat": 4,
 "nbformat_minor": 1
}
