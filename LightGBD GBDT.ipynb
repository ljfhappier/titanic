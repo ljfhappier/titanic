{
 "cells": [
  {
   "cell_type": "code",
   "execution_count": 1,
   "metadata": {
    "collapsed": true
   },
   "outputs": [],
   "source": [
    "import numpy as np\n",
    "import pandas as pd\n",
    "import os\n",
    "import time\n",
    "import matplotlib\n",
    "import matplotlib.pyplot as plt\n",
    "%matplotlib inline"
   ]
  },
  {
   "cell_type": "code",
   "execution_count": 2,
   "metadata": {
    "collapsed": true
   },
   "outputs": [],
   "source": [
    "path_folder=os.path.normcase(r'C:\\Users\\dell\\Downloads\\Titanic-maching-learning-from-disaster')\n",
    "train_data_origin=pd.read_csv(os.path.join(path_folder,'train.csv'),sep=',')\n",
    "test_data_origin=pd.read_csv(os.path.join(path_folder,'test.csv'),sep=',')"
   ]
  },
  {
   "cell_type": "code",
   "execution_count": 3,
   "metadata": {
    "collapsed": true
   },
   "outputs": [],
   "source": [
    "def deal_ticket_fare(df):\n",
    "    '''\n",
    "    计算每张票有几人共享，以及每人花费的船票钱\n",
    "    \n",
    "    paramters:\n",
    "        df--dataframe，待处理的数据表\n",
    "        \n",
    "    return:\n",
    "        df_count--处理后，添加新列的数据表\n",
    "    '''\n",
    "    num_of_tickets=df[['Ticket']].groupby(df['Ticket']).count()\n",
    "    num_of_tickets.columns=['num_of_tickets']\n",
    "    df_count=df.merge(num_of_tickets,left_on='Ticket',right_index=True,how='left')\n",
    "    df_count['fare_per_ticket']=df_count['Fare']/df_count['num_of_tickets']\n",
    "    return df_count"
   ]
  },
  {
   "cell_type": "code",
   "execution_count": 4,
   "metadata": {
    "collapsed": true
   },
   "outputs": [],
   "source": [
    "def plot_learning_curve(estimator, title, X, y, ylim=None, cv=None,n_jobs=None, train_sizes=np.linspace(0.1, 1.0, 10)):\n",
    "    from sklearn.model_selection import learning_curve\n",
    "    \n",
    "    plt.figure()\n",
    "    plt.title(title)\n",
    "    if ylim is not None:\n",
    "        plt.ylim(*ylim)\n",
    "    plt.xlabel(\"Training examples\")\n",
    "    plt.ylabel(\"Score\")\n",
    "    train_sizes, train_scores, test_scores = learning_curve(\n",
    "        estimator, X, y, cv=cv, n_jobs=n_jobs, train_sizes=train_sizes)#train_scores size (n_ticks,n_cv_folds)\n",
    "    train_scores_mean = np.mean(train_scores, axis=1)\n",
    "    train_scores_std = np.std(train_scores, axis=1)\n",
    "    test_scores_mean = np.mean(test_scores, axis=1)\n",
    "    test_scores_std = np.std(test_scores, axis=1)\n",
    "    plt.grid()\n",
    "\n",
    "    plt.fill_between(train_sizes, train_scores_mean - train_scores_std,\n",
    "                     train_scores_mean + train_scores_std, alpha=0.1,\n",
    "                     color=\"r\")\n",
    "    plt.fill_between(train_sizes, test_scores_mean - test_scores_std,\n",
    "                     test_scores_mean + test_scores_std, alpha=0.1, color=\"g\")\n",
    "    plt.plot(train_sizes, train_scores_mean, 'o-', color=\"r\",\n",
    "             label=\"Training score\")\n",
    "    plt.plot(train_sizes, test_scores_mean, 's-', color=\"g\",\n",
    "             label=\"Cross-validation score\")\n",
    "\n",
    "    plt.legend(loc=\"best\")\n",
    "    return plt"
   ]
  },
  {
   "cell_type": "code",
   "execution_count": 5,
   "metadata": {
    "collapsed": true
   },
   "outputs": [],
   "source": [
    "# 计算 预测准确率\n",
    "def compute_acc(y,y_pred):\n",
    "    '''\n",
    "        计算预测精确度\n",
    "        input:\n",
    "            y--true label\n",
    "            y_pred-- predicted label\n",
    "        return:\n",
    "            accuracy--精确度\n",
    "    '''\n",
    "    y_pred_class=np.where(y_pred>=0.5,1,0)\n",
    "    pred_accuracy=(y==y_pred_class).sum()/len(y)    \n",
    "    return pred_accuracy"
   ]
  },
  {
   "cell_type": "code",
   "execution_count": 6,
   "metadata": {
    "collapsed": true
   },
   "outputs": [],
   "source": [
    "cols=['Sex_T','Embarked_T','Age','Fare','fare_per_ticket','num_of_tickets','Pclass','SibSp','Parch']"
   ]
  },
  {
   "cell_type": "code",
   "execution_count": 7,
   "metadata": {
    "collapsed": false
   },
   "outputs": [
    {
     "data": {
      "text/html": [
       "<div>\n",
       "<style scoped>\n",
       "    .dataframe tbody tr th:only-of-type {\n",
       "        vertical-align: middle;\n",
       "    }\n",
       "\n",
       "    .dataframe tbody tr th {\n",
       "        vertical-align: top;\n",
       "    }\n",
       "\n",
       "    .dataframe thead th {\n",
       "        text-align: right;\n",
       "    }\n",
       "</style>\n",
       "<table border=\"1\" class=\"dataframe\">\n",
       "  <thead>\n",
       "    <tr style=\"text-align: right;\">\n",
       "      <th></th>\n",
       "      <th>Sex_T</th>\n",
       "      <th>Embarked_T</th>\n",
       "      <th>Age</th>\n",
       "      <th>Fare</th>\n",
       "      <th>fare_per_ticket</th>\n",
       "      <th>num_of_tickets</th>\n",
       "      <th>Pclass</th>\n",
       "      <th>SibSp</th>\n",
       "      <th>Parch</th>\n",
       "    </tr>\n",
       "  </thead>\n",
       "  <tbody>\n",
       "    <tr>\n",
       "      <th>0</th>\n",
       "      <td>NaN</td>\n",
       "      <td>NaN</td>\n",
       "      <td>22.0</td>\n",
       "      <td>7.25</td>\n",
       "      <td>7.25</td>\n",
       "      <td>1</td>\n",
       "      <td>3</td>\n",
       "      <td>1</td>\n",
       "      <td>0</td>\n",
       "    </tr>\n",
       "  </tbody>\n",
       "</table>\n",
       "</div>"
      ],
      "text/plain": [
       "   Sex_T  Embarked_T   Age  Fare  fare_per_ticket  num_of_tickets  Pclass  \\\n",
       "0    NaN         NaN  22.0  7.25             7.25               1       3   \n",
       "\n",
       "   SibSp  Parch  \n",
       "0      1      0  "
      ]
     },
     "execution_count": 7,
     "metadata": {},
     "output_type": "execute_result"
    }
   ],
   "source": [
    "train_data_count=deal_ticket_fare(train_data_origin)\n",
    "train_data_count.reindex(columns=cols).head(1)"
   ]
  },
  {
   "cell_type": "code",
   "execution_count": 8,
   "metadata": {
    "collapsed": false
   },
   "outputs": [
    {
     "name": "stdout",
     "output_type": "stream",
     "text": [
      "<class 'pandas.core.frame.DataFrame'>\n",
      "RangeIndex: 891 entries, 0 to 890\n",
      "Data columns (total 14 columns):\n",
      "PassengerId        891 non-null int64\n",
      "Survived           891 non-null int64\n",
      "Pclass             891 non-null int64\n",
      "Name               891 non-null object\n",
      "Sex                891 non-null object\n",
      "Age                714 non-null float64\n",
      "SibSp              891 non-null int64\n",
      "Parch              891 non-null int64\n",
      "Ticket             891 non-null object\n",
      "Fare               891 non-null float64\n",
      "Cabin              204 non-null object\n",
      "Embarked           889 non-null object\n",
      "num_of_tickets     891 non-null int64\n",
      "fare_per_ticket    891 non-null float64\n",
      "dtypes: float64(3), int64(6), object(5)\n",
      "memory usage: 97.5+ KB\n"
     ]
    }
   ],
   "source": [
    "#train_data_count=deal_ticket_fare(train_data)\n",
    "train_data_count.info()"
   ]
  },
  {
   "cell_type": "code",
   "execution_count": 9,
   "metadata": {
    "collapsed": false
   },
   "outputs": [],
   "source": [
    "#  categorical type data\n",
    "trans_sex={'male':0,'female':1}\n",
    "trans_embarked={'S':0,'C':1,'Q':2}\n",
    "\n",
    "train_data_count['Sex_T']=train_data_count['Sex'].map(trans_sex)\n",
    "#from sklearn.impute import MissingIndicator\n",
    "#indicator=MissingIndicator(missing_values=np.nan)\n",
    "#train_missing_indicator=indicator.fit_transform(train_data_count)\n",
    "from sklearn.impute import SimpleImputer\n",
    "imp1=SimpleImputer(missing_values=np.nan,strategy='most_frequent')\n",
    "train_data_count['Embarked']=imp1.fit_transform(train_data_count[['Embarked']])\n",
    "imp2=SimpleImputer(missing_values=np.nan,strategy='mean')\n",
    "train_data_count['Age']=imp2.fit_transform(train_data_count[['Age']])\n",
    "train_data_count['Embarked_T']=train_data_count['Embarked'].map(trans_embarked).astype(np.int)\n",
    "cols=['Sex_T','Embarked_T','Age','Fare','fare_per_ticket','num_of_tickets','Pclass','SibSp','Parch']\n",
    "X_train_data=train_data_count.reindex(columns=cols).values\n",
    "y_train_data=train_data_count['Survived'].ravel()"
   ]
  },
  {
   "cell_type": "code",
   "execution_count": 10,
   "metadata": {
    "collapsed": false
   },
   "outputs": [
    {
     "name": "stdout",
     "output_type": "stream",
     "text": [
      "<class 'pandas.core.frame.DataFrame'>\n",
      "RangeIndex: 418 entries, 0 to 417\n",
      "Data columns (total 11 columns):\n",
      "PassengerId    418 non-null int64\n",
      "Pclass         418 non-null int64\n",
      "Name           418 non-null object\n",
      "Sex            418 non-null object\n",
      "Age            332 non-null float64\n",
      "SibSp          418 non-null int64\n",
      "Parch          418 non-null int64\n",
      "Ticket         418 non-null object\n",
      "Fare           417 non-null float64\n",
      "Cabin          91 non-null object\n",
      "Embarked       418 non-null object\n",
      "dtypes: float64(2), int64(4), object(5)\n",
      "memory usage: 36.0+ KB\n"
     ]
    }
   ],
   "source": [
    "test_data_origin.info()"
   ]
  },
  {
   "cell_type": "code",
   "execution_count": 11,
   "metadata": {
    "collapsed": false
   },
   "outputs": [],
   "source": [
    "test_data_count=deal_ticket_fare(test_data_origin)\n",
    "test_data_count['Sex_T']=test_data_count['Sex'].map(trans_sex)\n",
    "test_data_count['Embarked']=imp1.transform(test_data_count[['Embarked']])\n",
    "test_data_count['Embarked_T']=test_data_count['Embarked'].map(trans_embarked).astype(np.int)\n",
    "test_data_count['Age']=imp2.transform(test_data_count[['Age']])\n",
    "X_test_data=test_data_count.reindex(columns=cols).values"
   ]
  },
  {
   "cell_type": "code",
   "execution_count": 12,
   "metadata": {
    "collapsed": false
   },
   "outputs": [
    {
     "name": "stdout",
     "output_type": "stream",
     "text": [
      "[10]\tcv_agg's binary_error: 0.190769 + 0.0299161\n",
      "[20]\tcv_agg's binary_error: 0.175114 + 0.0293942\n",
      "[30]\tcv_agg's binary_error: 0.170601 + 0.0279258\n",
      "[40]\tcv_agg's binary_error: 0.16384 + 0.0260488\n",
      "[50]\tcv_agg's binary_error: 0.169439 + 0.0266665\n"
     ]
    },
    {
     "name": "stderr",
     "output_type": "stream",
     "text": [
      "D:\\Anaconda3\\lib\\site-packages\\lightgbm\\basic.py:1205: UserWarning: Using categorical_feature in Dataset.\n",
      "  warnings.warn('Using categorical_feature in Dataset.')\n"
     ]
    }
   ],
   "source": [
    "import lightgbm as lgb\n",
    "train_data=lgb.Dataset(X_train_data,label=y_train_data,categorical_feature=[0,1])\n",
    "#param={'num_leaves':14,'num_iterations':400,'objective':'binary','metric':'binary_error'}\n",
    "param={'objective':'binary','metric':'binary_error'}\n",
    "scores_dict=lgb.cv(param,train_data,num_boost_round=1000,nfold=5,early_stopping_rounds=10,verbose_eval=10)"
   ]
  },
  {
   "cell_type": "code",
   "execution_count": 13,
   "metadata": {},
   "outputs": [
    {
     "data": {
      "text/plain": [
       "array([0.61616491, 0.69022877, 0.7856164 , 0.79461137, 0.79800113,\n",
       "       0.79913735, 0.7980074 , 0.79687118, 0.80022941, 0.80923095,\n",
       "       0.81145923, 0.80921197, 0.80809472, 0.81032929, 0.81482381,\n",
       "       0.81708363, 0.81708363, 0.8215529 , 0.82156553, 0.82488589,\n",
       "       0.82826937, 0.83052291, 0.82600948, 0.82488589, 0.82487326,\n",
       "       0.8271268 , 0.8271395 , 0.82826937, 0.82827572, 0.82939931,\n",
       "       0.83164657, 0.83054188, 0.82716475, 0.83165285, 0.83615993,\n",
       "       0.8327828 , 0.8305356 , 0.83503641, 0.83391909, 0.83616   ,\n",
       "       0.84064818])"
      ]
     },
     "execution_count": 13,
     "metadata": {},
     "output_type": "execute_result"
    }
   ],
   "source": [
    "1-np.array(scores_dict['binary_error-mean'])"
   ]
  },
  {
   "cell_type": "code",
   "execution_count": 15,
   "metadata": {
    "collapsed": false
   },
   "outputs": [
    {
     "name": "stdout",
     "output_type": "stream",
     "text": [
      "41 0.8406481766175955\n"
     ]
    }
   ],
   "source": [
    "print (len(scores_dict['binary_error-mean']), 1-scores_dict['binary_error-mean'][-1])"
   ]
  },
  {
   "cell_type": "code",
   "execution_count": 16,
   "metadata": {},
   "outputs": [],
   "source": [
    "def compute_cross_val_score(param,X,y,cv=3,valid_sets_c=True,**args):\n",
    "    '''\n",
    "        计算参数值val下的mean accuracy 和 std\n",
    "        input:\n",
    "            estimator--使用的模型（非sklearn）,object\n",
    "            x--valus of feature of samples, array(num_of_sample,num_of_feature)\n",
    "            y--sample labels,array(num_of_sample,)\n",
    "            cv--数据集拆分组数,int\n",
    "            args--dict,要计算的模型的参数及其值\n",
    "        return:\n",
    "            train_mean_score--训练精确度\n",
    "            train_std--训练方差\n",
    "            validation_mean_score--验证精确度\n",
    "            validation_std--验证方差\n",
    "    '''\n",
    "    import numpy as np\n",
    "    # data shuffle\n",
    "    np.random.shuffle(X)\n",
    "    np.random.shuffle(y)\n",
    "    #data split\n",
    "    X_folds=np.array_split(X,cv)\n",
    "    y_folds=np.array_split(y,cv)\n",
    "    # scores container\n",
    "    train_scores=list()\n",
    "    validation_scores=list()\n",
    "    # cross_val_score\n",
    "    for k in range(cv):\n",
    "        # 拆分数据\n",
    "        X_train=list(X_folds)\n",
    "        X_test=X_train.pop(k)\n",
    "        X_train=np.concatenate(X_train)\n",
    "        y_train=list(y_folds)\n",
    "        y_test=y_train.pop(k)\n",
    "        y_train=np.concatenate(y_train)\n",
    "        #train_scores.append(estimator.score(X_train,y_train))\n",
    "        #训练 模型\n",
    "        train_data=lgb.Dataset(X_train,label=y_train)\n",
    "        validation_data=lgb.Dataset(X_test,label=y_test,reference=train_data)\n",
    "        if valid_sets_c:\n",
    "            bst=lgb.train(param,train_data,valid_sets=[validation_data],early_stopping_rounds=None,verbose_eval=False)\n",
    "        else:\n",
    "            bst=lgb.train(param,train_data,verbose_eval=False)\n",
    "        \n",
    "        # train_data prediction accuracy\n",
    "        y_train_pred=bst.predict(X_train)\n",
    "        train_score=compute_acc(y_train,y_train_pred)\n",
    "        train_scores.append(train_score)\n",
    "        # valid_data prediction accuracy\n",
    "        y_test_pred=bst.predict(X_test)\n",
    "        valid_score=compute_acc(y_test,y_test_pred)\n",
    "        validation_scores.append(valid_score)\n",
    "    # mean and std\n",
    "    train_mean_score=np.array(train_scores).mean()\n",
    "    validation_mean_score=np.array(validation_scores).mean()\n",
    "    train_std=np.array(train_scores).std()\n",
    "    validation_std=np.array(validation_scores).std()\n",
    "    \n",
    "    return train_mean_score,train_std,validation_mean_score,validation_std"
   ]
  },
  {
   "cell_type": "code",
   "execution_count": 17,
   "metadata": {},
   "outputs": [],
   "source": [
    "def plot_validation_curve(param_grid,valid_datas,train_datas=None):\n",
    "    import matplotlib.pyplot as plt\n",
    "    '''\n",
    "        绘制验证曲线，观测参数变化对模型性能的影响\n",
    "        input:\n",
    "            param_grid(list)--参数的取值范围\n",
    "            datas--train_mean_scores,train_stds,validation_mean_scores,validation_stds           \n",
    "    '''\n",
    "    if train_datas:\n",
    "        train_mean_scores,train_stds=train_datas\n",
    "    validation_mean_scores,validation_stds=valid_datas\n",
    "    plt.figure()\n",
    "    plt.suptitle('Validation Curve')\n",
    "    # train accuracy line\n",
    "    if train_datas:\n",
    "        plt.plot(param_grid,train_mean_scores,marker='o',color='r',markersize=5,label='Training accuracy')\n",
    "        plt.fill_between(param_grid,train_mean_scores+train_stds,train_mean_scores-train_stds,\\\n",
    "                        alpha=0.15,color='r')\n",
    "    # validation line\n",
    "    plt.plot(param_grid,validation_mean_scores,color='green',linestyle='--',marker='s',\\\n",
    "             markersize=5,label='Validation accuracy')\n",
    "    plt.fill_between(param_grid,validation_mean_scores+validation_stds,validation_mean_scores-validation_stds,\\\n",
    "                    alpha=0.15,color='green')\n",
    "    plt.grid()\n",
    "    #plt.xscale('log')\n",
    "    plt.xlabel('Parameters')\n",
    "    plt.ylabel('Accuracy')\n",
    "    plt.ylim([0,1])    \n",
    "    plt.show()"
   ]
  },
  {
   "cell_type": "code",
   "execution_count": 80,
   "metadata": {},
   "outputs": [],
   "source": [
    "param['num_trees']=100\n",
    "param_of_num_leaves=list(range(10,51,4))"
   ]
  },
  {
   "cell_type": "code",
   "execution_count": 81,
   "metadata": {},
   "outputs": [
    {
     "data": {
      "image/png": "[encoded data removed]",
      "text/plain": [
       "<Figure size 432x288 with 1 Axes>"
      ]
     },
     "metadata": {
      "needs_background": "light"
     },
     "output_type": "display_data"
    }
   ],
   "source": [
    "list_of_data=[]\n",
    "train_mean_scores=[]\n",
    "train_stds=[]\n",
    "validation_mean_scores=[]\n",
    "validation_stds=[]\n",
    "cv=5\n",
    "for num in param_of_num_leaves:\n",
    "    param['num_leaves']=num\n",
    "    train_mean_score,train_std,validation_mean_score,validation_std=\\\n",
    "        compute_cross_val_score(param,X_train_data,y_train_data,cv=cv,valid_set_c=False)\n",
    "    train_mean_scores.append(train_mean_score)\n",
    "    train_stds.append(train_std)\n",
    "    validation_mean_scores.append(validation_mean_score)\n",
    "    validation_stds.append(validation_std)\n",
    "train_datas,valid_datas=(np.array(train_mean_scores),np.array(train_stds)),(np.array(validation_mean_scores),np.array(validation_stds))\n",
    "plot_validation_curve(param_of_num_leaves,valid_datas,train_datas)"
   ]
  },
  {
   "cell_type": "code",
   "execution_count": 25,
   "metadata": {},
   "outputs": [
    {
     "name": "stdout",
     "output_type": "stream",
     "text": [
      "{'objective': 'binary', 'metric': 'binary_error', 'num_leaves': 10}\n",
      "{'objective': 'binary', 'metric': 'binary_error', 'num_leaves': 14}\n"
     ]
    },
    {
     "name": "stderr",
     "output_type": "stream",
     "text": [
      "D:\\Anaconda3\\lib\\site-packages\\lightgbm\\basic.py:1205: UserWarning: Using categorical_feature in Dataset.\n",
      "  warnings.warn('Using categorical_feature in Dataset.')\n",
      "D:\\Anaconda3\\lib\\site-packages\\lightgbm\\basic.py:1205: UserWarning: Using categorical_feature in Dataset.\n",
      "  warnings.warn('Using categorical_feature in Dataset.')\n"
     ]
    },
    {
     "name": "stdout",
     "output_type": "stream",
     "text": [
      "{'objective': 'binary', 'metric': 'binary_error', 'num_leaves': 18}\n",
      "{'objective': 'binary', 'metric': 'binary_error', 'num_leaves': 22}\n"
     ]
    },
    {
     "name": "stderr",
     "output_type": "stream",
     "text": [
      "D:\\Anaconda3\\lib\\site-packages\\lightgbm\\basic.py:1205: UserWarning: Using categorical_feature in Dataset.\n",
      "  warnings.warn('Using categorical_feature in Dataset.')\n",
      "D:\\Anaconda3\\lib\\site-packages\\lightgbm\\basic.py:1205: UserWarning: Using categorical_feature in Dataset.\n",
      "  warnings.warn('Using categorical_feature in Dataset.')\n"
     ]
    },
    {
     "name": "stdout",
     "output_type": "stream",
     "text": [
      "{'objective': 'binary', 'metric': 'binary_error', 'num_leaves': 26}\n"
     ]
    },
    {
     "name": "stderr",
     "output_type": "stream",
     "text": [
      "D:\\Anaconda3\\lib\\site-packages\\lightgbm\\basic.py:1205: UserWarning: Using categorical_feature in Dataset.\n",
      "  warnings.warn('Using categorical_feature in Dataset.')\n"
     ]
    },
    {
     "name": "stdout",
     "output_type": "stream",
     "text": [
      "{'objective': 'binary', 'metric': 'binary_error', 'num_leaves': 30}\n",
      "{'objective': 'binary', 'metric': 'binary_error', 'num_leaves': 34}\n"
     ]
    },
    {
     "name": "stderr",
     "output_type": "stream",
     "text": [
      "D:\\Anaconda3\\lib\\site-packages\\lightgbm\\basic.py:1205: UserWarning: Using categorical_feature in Dataset.\n",
      "  warnings.warn('Using categorical_feature in Dataset.')\n",
      "D:\\Anaconda3\\lib\\site-packages\\lightgbm\\basic.py:1205: UserWarning: Using categorical_feature in Dataset.\n",
      "  warnings.warn('Using categorical_feature in Dataset.')\n"
     ]
    },
    {
     "name": "stdout",
     "output_type": "stream",
     "text": [
      "{'objective': 'binary', 'metric': 'binary_error', 'num_leaves': 38}\n",
      "{'objective': 'binary', 'metric': 'binary_error', 'num_leaves': 42}\n"
     ]
    },
    {
     "name": "stderr",
     "output_type": "stream",
     "text": [
      "D:\\Anaconda3\\lib\\site-packages\\lightgbm\\basic.py:1205: UserWarning: Using categorical_feature in Dataset.\n",
      "  warnings.warn('Using categorical_feature in Dataset.')\n",
      "D:\\Anaconda3\\lib\\site-packages\\lightgbm\\basic.py:1205: UserWarning: Using categorical_feature in Dataset.\n",
      "  warnings.warn('Using categorical_feature in Dataset.')\n"
     ]
    },
    {
     "name": "stdout",
     "output_type": "stream",
     "text": [
      "{'objective': 'binary', 'metric': 'binary_error', 'num_leaves': 46}\n"
     ]
    },
    {
     "name": "stderr",
     "output_type": "stream",
     "text": [
      "D:\\Anaconda3\\lib\\site-packages\\lightgbm\\basic.py:1205: UserWarning: Using categorical_feature in Dataset.\n",
      "  warnings.warn('Using categorical_feature in Dataset.')\n"
     ]
    },
    {
     "name": "stdout",
     "output_type": "stream",
     "text": [
      "{'objective': 'binary', 'metric': 'binary_error', 'num_leaves': 50}\n"
     ]
    },
    {
     "name": "stderr",
     "output_type": "stream",
     "text": [
      "D:\\Anaconda3\\lib\\site-packages\\lightgbm\\basic.py:1205: UserWarning: Using categorical_feature in Dataset.\n",
      "  warnings.warn('Using categorical_feature in Dataset.')\n"
     ]
    },
    {
     "data": {
      "image/png": "[encoded data removed]",
      "text/plain": [
       "<Figure size 432x288 with 1 Axes>"
      ]
     },
     "metadata": {
      "needs_background": "light"
     },
     "output_type": "display_data"
    }
   ],
   "source": [
    "train_data=lgb.Dataset(X_train_data,label=y_train_data,categorical_feature=[0,1],free_raw_data=False)\n",
    "param_of_num_leaves=list(range(10,51,4))\n",
    "param={'objective':'binary','metric':'binary_error'}\n",
    "cross_val_mean_score=[]\n",
    "cross_val_mean_std=[]\n",
    "list_of_param=[]\n",
    "for inum in param_of_num_leaves:\n",
    "    \n",
    "    param['num_leaves']=inum\n",
    "    print(param)\n",
    "    list_of_param.append(param.copy())\n",
    "    eval_hist=lgb.cv(param,train_data,num_boost_round=1000,nfold=5,early_stopping_rounds=10,verbose_eval=None)\n",
    "    #scores_dict=lgb.cv(param,train_data,num_boost_round=1000,nfold=5,early_stopping_rounds=10,verbose_eval=10)\n",
    "    cross_val_mean_score.append(eval_hist['binary_error-mean'][-1])\n",
    "    cross_val_mean_std.append(eval_hist['binary_error-stdv'][-1])\n",
    "plot_validation_curve(param_of_num_leaves,(1.0-np.array(cross_val_mean_score),np.array(cross_val_mean_std)))"
   ]
  },
  {
   "cell_type": "code",
   "execution_count": 24,
   "metadata": {},
   "outputs": [
    {
     "data": {
      "text/plain": [
       "[{'objective': 'binary', 'metric': 'binary_error', 'num_leaves': 10},\n",
       " {'objective': 'binary', 'metric': 'binary_error', 'num_leaves': 14},\n",
       " {'objective': 'binary', 'metric': 'binary_error', 'num_leaves': 18},\n",
       " {'objective': 'binary', 'metric': 'binary_error', 'num_leaves': 22},\n",
       " {'objective': 'binary', 'metric': 'binary_error', 'num_leaves': 26},\n",
       " {'objective': 'binary', 'metric': 'binary_error', 'num_leaves': 30},\n",
       " {'objective': 'binary', 'metric': 'binary_error', 'num_leaves': 34},\n",
       " {'objective': 'binary', 'metric': 'binary_error', 'num_leaves': 38},\n",
       " {'objective': 'binary', 'metric': 'binary_error', 'num_leaves': 42},\n",
       " {'objective': 'binary', 'metric': 'binary_error', 'num_leaves': 46},\n",
       " {'objective': 'binary', 'metric': 'binary_error', 'num_leaves': 50}]"
      ]
     },
     "execution_count": 24,
     "metadata": {},
     "output_type": "execute_result"
    }
   ],
   "source": [
    "list_of_param"
   ]
  },
  {
   "cell_type": "code",
   "execution_count": 58,
   "metadata": {},
   "outputs": [
    {
     "data": {
      "text/plain": [
       "array([0.71099888, 0.75982043, 0.78170595, 0.80527497, 0.79573513,\n",
       "       0.79405163, 0.80864198, 0.7962963 ])"
      ]
     },
     "execution_count": 58,
     "metadata": {},
     "output_type": "execute_result"
    }
   ],
   "source": [
    "np.array(list_of_data)[:,0]"
   ]
  },
  {
   "cell_type": "code",
   "execution_count": 53,
   "metadata": {},
   "outputs": [
    {
     "data": {
      "text/plain": [
       "{10: (0.7109988776655444,\n",
       "  0.0007936103043620288,\n",
       "  0.5634118967452301,\n",
       "  0.008837270341202942),\n",
       " 14: (0.7598204264870931,\n",
       "  0.005555272130534063,\n",
       "  0.574635241301908,\n",
       "  0.018304721021661172),\n",
       " 18: (0.7817059483726151,\n",
       "  0.005722805290227617,\n",
       "  0.5476992143658811,\n",
       "  0.023381219591469906),\n",
       " 22: (0.8052749719416387,\n",
       "  0.004418635170601455,\n",
       "  0.5656565656565657,\n",
       "  0.032411962016147405),\n",
       " 26: (0.7957351290684623,\n",
       "  0.002861402645113776,\n",
       "  0.574635241301908,\n",
       "  0.02808079910930821),\n",
       " 30: (0.7940516273849606,\n",
       "  0.020029818515796556,\n",
       "  0.55331088664422,\n",
       "  0.011110544261068086),\n",
       " 34: (0.808641975308642,\n",
       "  0.010132138094987534,\n",
       "  0.5881032547699214,\n",
       "  0.01930937209212711),\n",
       " 38: (0.7962962962962964,\n",
       "  0.007273558584071691,\n",
       "  0.5578002244668911,\n",
       "  0.02479317848975814)}"
      ]
     },
     "execution_count": 53,
     "metadata": {},
     "output_type": "execute_result"
    }
   ],
   "source": [
    "dict(zip(param_of_num_leaves,list_of_data))"
   ]
  },
  {
   "cell_type": "code",
   "execution_count": 26,
   "metadata": {
    "collapsed": false
   },
   "outputs": [
    {
     "data": {
      "text/plain": [
       "(40, 0.15935182338240444)"
      ]
     },
     "execution_count": 26,
     "metadata": {},
     "output_type": "execute_result"
    }
   ],
   "source": [
    "np.argmin(scores_dict['binary_error-mean']),scores_dict['binary_error-mean'][40]"
   ]
  },
  {
   "cell_type": "code",
   "execution_count": 27,
   "metadata": {
    "collapsed": false
   },
   "outputs": [],
   "source": [
    "bst=lgb.train(param,train_data,num_boost_round=41,categorical_feature=[0,1])"
   ]
  },
  {
   "cell_type": "code",
   "execution_count": 28,
   "metadata": {
    "collapsed": false
   },
   "outputs": [
    {
     "data": {
      "text/plain": [
       "0.9046015712682379"
      ]
     },
     "execution_count": 28,
     "metadata": {},
     "output_type": "execute_result"
    }
   ],
   "source": [
    "compute_acc(y_train_data,bst.predict(X_train_data).ravel())"
   ]
  },
  {
   "cell_type": "code",
   "execution_count": 18,
   "metadata": {
    "collapsed": true
   },
   "outputs": [],
   "source": [
    "test_pred=(bst.predict(X_test_data).ravel()>0.5).astype(np.int)"
   ]
  },
  {
   "cell_type": "code",
   "execution_count": 19,
   "metadata": {
    "collapsed": false
   },
   "outputs": [],
   "source": [
    "test_data_count['Survived']=test_pred\n",
    "test_data_count[['PassengerId','Survived']].to_csv('c:/users/dell/desktop/gender_submission.csv',index=False)"
   ]
  },
  {
   "cell_type": "code",
   "execution_count": 10,
   "metadata": {
    "collapsed": true
   },
   "outputs": [],
   "source": [
    "import lightgbm as lgb\n",
    "# 准备数据\n",
    "train_data=lgb.Dataset(train_data_X,train_data_y)\n",
    "valid_data=lgb.Dataset(dev_data_X,dev_data_y,reference=train_data)"
   ]
  },
  {
   "cell_type": "code",
   "execution_count": 113,
   "metadata": {
    "collapsed": true
   },
   "outputs": [],
   "source": [
    "# setting parameters  dict type\n",
    "param={'num_leaves':14,'num_iterations':40,'objective':'binary'}\n",
    "param['metric']='binary_error'"
   ]
  },
  {
   "cell_type": "code",
   "execution_count": 122,
   "metadata": {
    "collapsed": true
   },
   "outputs": [],
   "source": [
    "# setting parameters  dict type\n",
    "param={'num_leaves':15,'num_iterations':154,'objective':'binary'}\n",
    "param['metric']='binary_error'"
   ]
  },
  {
   "cell_type": "code",
   "execution_count": 123,
   "metadata": {
    "collapsed": false
   },
   "outputs": [
    {
     "name": "stderr",
     "output_type": "stream",
     "text": [
      "C:\\Users\\dell\\Anaconda3\\lib\\site-packages\\lightgbm\\engine.py:116: UserWarning: Found `num_iterations` in params. Will use it instead of argument\n",
      "  warnings.warn(\"Found `{}` in params. Will use it instead of argument\".format(alias))\n"
     ]
    },
    {
     "name": "stdout",
     "output_type": "stream",
     "text": [
      "[50]\tvalid_0's binary_error: 0.186567\n",
      "[100]\tvalid_0's binary_error: 0.197761\n",
      "[150]\tvalid_0's binary_error: 0.19403\n"
     ]
    }
   ],
   "source": [
    "# training \n",
    "num_boost_round=10\n",
    "bst=lgb.train(param,train_data,num_boost_round,valid_sets=[valid_data],verbose_eval=50)"
   ]
  },
  {
   "cell_type": "code",
   "execution_count": 124,
   "metadata": {
    "collapsed": false
   },
   "outputs": [
    {
     "data": {
      "text/plain": [
       "154"
      ]
     },
     "execution_count": 124,
     "metadata": {},
     "output_type": "execute_result"
    }
   ],
   "source": [
    "bst.num_trees()"
   ]
  },
  {
   "cell_type": "code",
   "execution_count": 129,
   "metadata": {
    "collapsed": false
   },
   "outputs": [
    {
     "data": {
      "text/plain": [
       "0.8585858585858586"
      ]
     },
     "execution_count": 129,
     "metadata": {},
     "output_type": "execute_result"
    }
   ],
   "source": [
    "train_pred_y=bst.predict(data_X_train)\n",
    "compute_acc(data_y_train,train_pred_y)"
   ]
  },
  {
   "cell_type": "code",
   "execution_count": 131,
   "metadata": {
    "collapsed": false
   },
   "outputs": [
    {
     "data": {
      "text/plain": [
       "0.8097014925373134"
      ]
     },
     "execution_count": 131,
     "metadata": {},
     "output_type": "execute_result"
    }
   ],
   "source": [
    "dev_y_pred=bst.predict(dev_data_X)\n",
    "compute_acc(dev_data_y,dev_y_pred)"
   ]
  },
  {
   "cell_type": "code",
   "execution_count": 57,
   "metadata": {
    "collapsed": true
   },
   "outputs": [],
   "source": [
    "test_y_pred=bst.predict(test_data_X)"
   ]
  },
  {
   "cell_type": "code",
   "execution_count": 58,
   "metadata": {
    "collapsed": true
   },
   "outputs": [],
   "source": [
    "test_data_origin['Survived']=np.where(test_y_pred>=0.5,1,0)"
   ]
  },
  {
   "cell_type": "code",
   "execution_count": 59,
   "metadata": {
    "collapsed": true
   },
   "outputs": [],
   "source": [
    "test_data_origin[['PassengerId','Survived']].to_csv('c:/users/dell/desktop/gender_submission.csv',index=False)"
   ]
  },
  {
   "cell_type": "code",
   "execution_count": 52,
   "metadata": {
    "collapsed": false
   },
   "outputs": [
    {
     "data": {
      "text/plain": [
       "{'metric': 'binary_error', 'num_leaves': 15, 'objective': 'binary'}"
      ]
     },
     "execution_count": 52,
     "metadata": {},
     "output_type": "execute_result"
    }
   ],
   "source": [
    "bst.params"
   ]
  },
  {
   "cell_type": "code",
   "execution_count": 64,
   "metadata": {
    "collapsed": false
   },
   "outputs": [
    {
     "data": {
      "text/plain": [
       "array([ 0.        ,  1.        ,  0.        ,  0.        ,  1.        ,\n",
       "        3.        ,  1.        ,  0.        ,  1.        , -0.56573646,\n",
       "       -0.50244517, -0.49697568])"
      ]
     },
     "execution_count": 64,
     "metadata": {},
     "output_type": "execute_result"
    }
   ],
   "source": [
    "# scikit api 参数调优\n",
    "data_X_train=full_pipeline_std.fit_transform(train_data_count).toarray()\n",
    "data_y_train=train_data_count['Survived'].values.ravel()\n",
    "data_X_train[0]"
   ]
  },
  {
   "cell_type": "code",
   "execution_count": 83,
   "metadata": {
    "collapsed": false
   },
   "outputs": [
    {
     "name": "stdout",
     "output_type": "stream",
     "text": [
      "[10]\tcv_agg's binary_error: 0.189645 + 0.0259372\n",
      "[20]\tcv_agg's binary_error: 0.180701 + 0.0274235\n",
      "[30]\tcv_agg's binary_error: 0.176193 + 0.021359\n",
      "[40]\tcv_agg's binary_error: 0.178428 + 0.0252489\n",
      "[50]\tcv_agg's binary_error: 0.173952 + 0.0149303\n",
      "[60]\tcv_agg's binary_error: 0.166087 + 0.0170612\n",
      "[70]\tcv_agg's binary_error: 0.164976 + 0.0189233\n",
      "[80]\tcv_agg's binary_error: 0.158241 + 0.0147091\n",
      "[90]\tcv_agg's binary_error: 0.166106 + 0.0130923\n",
      "[100]\tcv_agg's binary_error: 0.162716 + 0.0124947\n",
      "[110]\tcv_agg's binary_error: 0.161586 + 0.0144549\n",
      "[120]\tcv_agg's binary_error: 0.162716 + 0.011969\n",
      "[130]\tcv_agg's binary_error: 0.158228 + 0.0136617\n",
      "[140]\tcv_agg's binary_error: 0.160475 + 0.0112666\n",
      "[150]\tcv_agg's binary_error: 0.161593 + 0.0126621\n",
      "[160]\tcv_agg's binary_error: 0.162716 + 0.0143578\n",
      "[170]\tcv_agg's binary_error: 0.160482 + 0.0124245\n",
      "[180]\tcv_agg's binary_error: 0.163859 + 0.0124669\n",
      "[190]\tcv_agg's binary_error: 0.161612 + 0.0113643\n",
      "[200]\tcv_agg's binary_error: 0.163859 + 0.0124593\n",
      "\n",
      "best n_estimators: 154\n",
      "best cv-score: 0.15821553188237267\n"
     ]
    }
   ],
   "source": [
    "data_train=lgb.Dataset(data_X_train,data_y_train,silent=True)\n",
    "params={'boosting_type':'gbdt',\n",
    "        'objective':'binary',\n",
    "        'learning_rate':0.1,\n",
    "        'num_leaves':31,\n",
    "        'max_depth':5,        \n",
    "       }\n",
    "cv_results=lgb.cv(params,data_train,num_boost_round=1000,nfold=5,stratified=True,shuffle=True,metrics='binary_error',early_stopping_rounds=50,\\\n",
    "                  verbose_eval=10,show_stdv=True,seed=0)\n",
    "print ('\\nbest n_estimators:',len(cv_results['binary_error-mean']))\n",
    "print ('best cv-score:',cv_results['binary_error-mean'][-1])"
   ]
  },
  {
   "cell_type": "code",
   "execution_count": null,
   "metadata": {
    "collapsed": true
   },
   "outputs": [],
   "source": []
  },
  {
   "cell_type": "code",
   "execution_count": 82,
   "metadata": {
    "collapsed": false
   },
   "outputs": [
    {
     "data": {
      "text/plain": [
       "dict_keys(['binary_error-mean', 'binary_error-stdv'])"
      ]
     },
     "execution_count": 82,
     "metadata": {},
     "output_type": "execute_result"
    }
   ],
   "source": [
    "cv_results.keys()"
   ]
  },
  {
   "cell_type": "code",
   "execution_count": 85,
   "metadata": {
    "collapsed": false
   },
   "outputs": [],
   "source": [
    "#cv_results.items()\n",
    "# 第一次 search 粗略\n",
    "from sklearn.model_selection import GridSearchCV\n",
    "model_lgb=lgb.LGBMClassifier(boosting_type='gbdt',num_leaves=31,max_depth=5,learning_rate=0.1,n_estimators=154,objective='binary',\\\n",
    "                             n_jobs=-1,silent=True,importance_type='split')\n",
    "param_grid1={'num_leaves':[15,28,31,45,64],'max_depth':[4,5,6]}\n",
    "gs1=GridSearchCV(model_lgb,param_grid=param_grid1,scoring='accuracy',iid='warn',n_jobs=-1,cv=5)"
   ]
  },
  {
   "cell_type": "code",
   "execution_count": 86,
   "metadata": {
    "collapsed": false
   },
   "outputs": [
    {
     "data": {
      "text/plain": [
       "GridSearchCV(cv=5, error_score='raise-deprecating',\n",
       "       estimator=LGBMClassifier(boosting_type='gbdt', class_weight=None, colsample_bytree=1.0,\n",
       "        importance_type='split', learning_rate=0.1, max_depth=5,\n",
       "        min_child_samples=20, min_child_weight=0.001, min_split_gain=0.0,\n",
       "        n_estimators=154, n_jobs=-1, num_leaves=31, objective='binary',\n",
       "        random_state=None, reg_alpha=0.0, reg_lambda=0.0, silent=True,\n",
       "        subsample=1.0, subsample_for_bin=200000, subsample_freq=0),\n",
       "       fit_params=None, iid='warn', n_jobs=-1,\n",
       "       param_grid={'num_leaves': [15, 28, 31, 45, 64], 'max_depth': [4, 5, 6]},\n",
       "       pre_dispatch='2*n_jobs', refit=True, return_train_score='warn',\n",
       "       scoring='accuracy', verbose=0)"
      ]
     },
     "execution_count": 86,
     "metadata": {},
     "output_type": "execute_result"
    }
   ],
   "source": [
    "gs1.fit(data_X_train,data_y_train)"
   ]
  },
  {
   "cell_type": "code",
   "execution_count": 88,
   "metadata": {
    "collapsed": false
   },
   "outputs": [
    {
     "data": {
      "text/plain": [
       "(0.8338945005611672,\n",
       " LGBMClassifier(boosting_type='gbdt', class_weight=None, colsample_bytree=1.0,\n",
       "         importance_type='split', learning_rate=0.1, max_depth=5,\n",
       "         min_child_samples=20, min_child_weight=0.001, min_split_gain=0.0,\n",
       "         n_estimators=154, n_jobs=-1, num_leaves=15, objective='binary',\n",
       "         random_state=None, reg_alpha=0.0, reg_lambda=0.0, silent=True,\n",
       "         subsample=1.0, subsample_for_bin=200000, subsample_freq=0))"
      ]
     },
     "execution_count": 88,
     "metadata": {},
     "output_type": "execute_result"
    }
   ],
   "source": [
    "gs1.best_score_,gs1.best_estimator_"
   ]
  },
  {
   "cell_type": "code",
   "execution_count": 130,
   "metadata": {
    "collapsed": false
   },
   "outputs": [
    {
     "data": {
      "text/plain": [
       "array([0.80446927, 0.79888268, 0.84831461, 0.82022472, 0.85310734])"
      ]
     },
     "execution_count": 130,
     "metadata": {},
     "output_type": "execute_result"
    }
   ],
   "source": [
    "# K折交叉验证\n",
    "from sklearn.model_selection import cross_val_score\n",
    "scores=cross_val_score(gs1,data_X_train,data_y_train,cv=5,n_jobs=-1,scoring='accuracy')\n",
    "scores"
   ]
  },
  {
   "cell_type": "code",
   "execution_count": 92,
   "metadata": {
    "collapsed": false
   },
   "outputs": [
    {
     "data": {
      "text/plain": [
       "0.8249997251565455"
      ]
     },
     "execution_count": 92,
     "metadata": {},
     "output_type": "execute_result"
    }
   ],
   "source": [
    "scores.mean()"
   ]
  },
  {
   "cell_type": "code",
   "execution_count": 94,
   "metadata": {
    "collapsed": false
   },
   "outputs": [
    {
     "data": {
      "text/plain": [
       "GridSearchCV(cv=5, error_score='raise-deprecating',\n",
       "       estimator=LGBMClassifier(boosting_type='gbdt', class_weight=None, colsample_bytree=1.0,\n",
       "        importance_type='split', learning_rate=0.1, max_depth=5,\n",
       "        min_child_samples=20, min_child_weight=0.001, min_split_gain=0.0,\n",
       "        n_estimators=154, n_jobs=-1, num_leaves=31, objective='binary',\n",
       "        random_state=None, reg_alpha=0.0, reg_lambda=0.0, silent=True,\n",
       "        subsample=1.0, subsample_for_bin=200000, subsample_freq=0),\n",
       "       fit_params=None, iid='warn', n_jobs=None,\n",
       "       param_grid={'num_leaves': [11, 13, 15, 17, 19], 'max_depth': [4, 5]},\n",
       "       pre_dispatch='2*n_jobs', refit=True, return_train_score='warn',\n",
       "       scoring='accuracy', verbose=0)"
      ]
     },
     "execution_count": 94,
     "metadata": {},
     "output_type": "execute_result"
    }
   ],
   "source": [
    "# 第二次 search 精细\n",
    "param_grid2={'num_leaves':[11,13,15,17,19],'max_depth':[4,5]}\n",
    "gs2=GridSearchCV(model_lgb,param_grid=param_grid2,scoring='accuracy',iid='warn',cv=5)\n",
    "gs2.fit(data_X_train,data_y_train)"
   ]
  },
  {
   "cell_type": "code",
   "execution_count": 95,
   "metadata": {
    "collapsed": false
   },
   "outputs": [
    {
     "data": {
      "text/plain": [
       "(0.8338945005611672,\n",
       " LGBMClassifier(boosting_type='gbdt', class_weight=None, colsample_bytree=1.0,\n",
       "         importance_type='split', learning_rate=0.1, max_depth=5,\n",
       "         min_child_samples=20, min_child_weight=0.001, min_split_gain=0.0,\n",
       "         n_estimators=154, n_jobs=-1, num_leaves=15, objective='binary',\n",
       "         random_state=None, reg_alpha=0.0, reg_lambda=0.0, silent=True,\n",
       "         subsample=1.0, subsample_for_bin=200000, subsample_freq=0))"
      ]
     },
     "execution_count": 95,
     "metadata": {},
     "output_type": "execute_result"
    }
   ],
   "source": [
    "gs2.best_score_,gs2.best_estimator_"
   ]
  },
  {
   "cell_type": "code",
   "execution_count": 97,
   "metadata": {
    "collapsed": false
   },
   "outputs": [
    {
     "data": {
      "text/plain": [
       "(array([0.79329609, 0.80446927, 0.85393258, 0.82022472, 0.85310734]),\n",
       " 0.8250060022264092)"
      ]
     },
     "execution_count": 97,
     "metadata": {},
     "output_type": "execute_result"
    }
   ],
   "source": [
    "scores=cross_val_score(gs2,data_X_train,data_y_train,cv=5,scoring='accuracy')\n",
    "scores,scores.mean()"
   ]
  },
  {
   "cell_type": "code",
   "execution_count": 103,
   "metadata": {
    "collapsed": false
   },
   "outputs": [],
   "source": [
    "test_y_lgb_pred=gs2.predict(test_data_X)"
   ]
  },
  {
   "cell_type": "code",
   "execution_count": 104,
   "metadata": {
    "collapsed": false
   },
   "outputs": [],
   "source": [
    "test_data_origin['Survived']=np.where(test_y_lgb_pred.ravel()>0.5,1,0)\n",
    "test_data_origin[['PassengerId','Survived']].to_csv('c:/users/dell/desktop/gender_submission.csv',index=False)"
   ]
  },
  {
   "cell_type": "code",
   "execution_count": 108,
   "metadata": {
    "collapsed": false
   },
   "outputs": [
    {
     "data": {
      "text/plain": [
       "GridSearchCV(cv=5, error_score='raise-deprecating',\n",
       "       estimator=LGBMClassifier(boosting_type='gbdt', class_weight=None, colsample_bytree=1.0,\n",
       "        importance_type='split', learning_rate=0.1, max_depth=5,\n",
       "        min_child_samples=20, min_child_weight=0.001, min_split_gain=0.0,\n",
       "        n_estimators=154, n_jobs=-1, num_leaves=31, objective='binary',\n",
       "        random_state=None, reg_alpha=0.0, reg_lambda=0.0, silent=True,\n",
       "        subsample=1.0, subsample_for_bin=200000, subsample_freq=0),\n",
       "       fit_params=None, iid='warn', n_jobs=None,\n",
       "       param_grid={'num_leaves': [14, 15, 16], 'n_estimators': [40, 151]},\n",
       "       pre_dispatch='2*n_jobs', refit=True, return_train_score='warn',\n",
       "       scoring='accuracy', verbose=0)"
      ]
     },
     "execution_count": 108,
     "metadata": {},
     "output_type": "execute_result"
    }
   ],
   "source": [
    "param_grid3={'num_leaves':[14,15,16],\"n_estimators\":[40,151]}\n",
    "gs3=GridSearchCV(model_lgb,param_grid=param_grid3,scoring='accuracy',iid='warn',cv=5)\n",
    "gs3.fit(data_X_train,data_y_train)"
   ]
  },
  {
   "cell_type": "code",
   "execution_count": 109,
   "metadata": {
    "collapsed": false
   },
   "outputs": [
    {
     "data": {
      "text/plain": [
       "(0.8327721661054994,\n",
       " LGBMClassifier(boosting_type='gbdt', class_weight=None, colsample_bytree=1.0,\n",
       "         importance_type='split', learning_rate=0.1, max_depth=5,\n",
       "         min_child_samples=20, min_child_weight=0.001, min_split_gain=0.0,\n",
       "         n_estimators=151, n_jobs=-1, num_leaves=15, objective='binary',\n",
       "         random_state=None, reg_alpha=0.0, reg_lambda=0.0, silent=True,\n",
       "         subsample=1.0, subsample_for_bin=200000, subsample_freq=0))"
      ]
     },
     "execution_count": 109,
     "metadata": {},
     "output_type": "execute_result"
    }
   ],
   "source": [
    "gs3.best_score_,gs3.best_estimator_"
   ]
  },
  {
   "cell_type": "markdown",
   "metadata": {},
   "source": [
    "尽管模型已经过拟合，但仍然没有达到我要的精度要求，在这种情况下，是什么问题呢？考虑数据的特征工程"
   ]
  }
 ],
 "metadata": {
  "anaconda-cloud": {},
  "kernelspec": {
   "display_name": "Python 3",
   "language": "python",
   "name": "python3"
  },
  "language_info": {
   "codemirror_mode": {
    "name": "ipython",
    "version": 3
   },
   "file_extension": ".py",
   "mimetype": "text/x-python",
   "name": "python",
   "nbconvert_exporter": "python",
   "pygments_lexer": "ipython3",
   "version": "3.7.1"
  }
 },
 "nbformat": 4,
 "nbformat_minor": 2
}
