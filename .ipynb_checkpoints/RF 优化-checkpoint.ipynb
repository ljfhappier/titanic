{
 "cells": [
  {
   "cell_type": "code",
   "execution_count": 1,
   "metadata": {
    "collapsed": true
   },
   "outputs": [],
   "source": [
    "import numpy as np\n",
    "import pandas as pd\n",
    "import os\n",
    "import time\n",
    "import matplotlib\n",
    "import matplotlib.pyplot as plt\n",
    "%matplotlib inline"
   ]
  },
  {
   "cell_type": "code",
   "execution_count": 2,
   "metadata": {
    "collapsed": true
   },
   "outputs": [],
   "source": [
    "path_folder=os.path.normcase(r'C:\\Users\\dell\\Downloads\\Titanic-maching-learning-from-disaster')\n",
    "train_data=pd.read_csv(os.path.join(path_folder,'train.csv'),sep=',')\n",
    "test_data_origin=pd.read_csv(os.path.join(path_folder,'test.csv'),sep=',')"
   ]
  },
  {
   "cell_type": "code",
   "execution_count": 3,
   "metadata": {
    "collapsed": true
   },
   "outputs": [],
   "source": [
    "def deal_ticket_fare(df):\n",
    "    '''\n",
    "    计算每张票有几人共享，以及每人花费的船票钱\n",
    "    \n",
    "    paramters:\n",
    "        df--dataframe，待处理的数据表\n",
    "        \n",
    "    return:\n",
    "        df_count--处理后，添加新列的数据表\n",
    "    '''\n",
    "    num_of_tickets=df[['Ticket']].groupby(df['Ticket']).count()\n",
    "    num_of_tickets.columns=['num_of_tickets']\n",
    "    df_count=df.merge(num_of_tickets,left_on='Ticket',right_index=True,how='left')\n",
    "    df_count['fare_per_ticket']=df_count['Fare']/df_count['num_of_tickets']\n",
    "    return df_count"
   ]
  },
  {
   "cell_type": "code",
   "execution_count": 4,
   "metadata": {
    "collapsed": true
   },
   "outputs": [],
   "source": [
    "# 构造 数据预处理 流水线\n",
    "from sklearn.preprocessing import StandardScaler,OneHotEncoder\n",
    "from sklearn.pipeline import Pipeline,FeatureUnion\n",
    "from sklearn.impute import SimpleImputer\n",
    "from sklearn.base import BaseEstimator,TransformerMixin\n",
    "\n",
    "class DataFrameSelector(BaseEstimator,TransformerMixin):\n",
    "    def __init__(self,attrs_name_list):\n",
    "        self.attrs_name_list=attrs_name_list\n",
    "    def fit(self,X,y=None):\n",
    "        return self\n",
    "    def transform(self,X):\n",
    "        return X[self.attrs_name_list].values\n",
    "\n",
    "def data_preparation(cat_attributes,interval_num_attributes,ratio_num_attributes):\n",
    "    '''\n",
    "    构造处理DataFrame 的 类\n",
    "    \n",
    "    Arguments:\n",
    "        cat_attributes ---         标称数据列集合\n",
    "        interval_num_attributes--- 标度数值列集合/不需进行标准化的列集合\n",
    "        ratio_num_attributes   --- 比例数值列集合/需进行 标准化 列集合\n",
    "       \n",
    "    Return \n",
    "        full_pipeline---类class\n",
    "    '''\n",
    "    cat_attrs=cat_attributes    \n",
    "    interval_num_attrs=interval_num_attributes\n",
    "    ratio_num_attrs=ratio_num_attributes\n",
    "    transformer_list=[]\n",
    "    \n",
    "    if cat_attrs:\n",
    "        cat_pipeline=Pipeline([('cat_dfs',DataFrameSelector(cat_attrs)),('impute',SimpleImputer(strategy='most_frequent')),\\\n",
    "                               ('onehotencoder',OneHotEncoder())])\n",
    "        transformer_list.append(('cat_pipeline',cat_pipeline))\n",
    "        \n",
    "    if interval_num_attrs:\n",
    "        interval_num_pipeline=Pipeline([('dfs',DataFrameSelector(interval_num_attrs)),('impute',SimpleImputer(strategy='median')) ])\n",
    "        transformer_list.append(('interval_num_pipeline',interval_num_pipeline))\n",
    "        \n",
    "    if ratio_num_attrs:  \n",
    "        ratio_num_pipeline=Pipeline([('dfs',DataFrameSelector(ratio_num_attrs)),('impute',SimpleImputer(strategy='median')),\\\n",
    "                                     ('std_scaler',StandardScaler())])\n",
    "        transformer_list.append(('ratio_num_pipeline',ratio_num_pipeline))\n",
    "    full_pipeline=FeatureUnion(transformer_list=transformer_list)\n",
    "    return full_pipeline"
   ]
  },
  {
   "cell_type": "code",
   "execution_count": 5,
   "metadata": {
    "collapsed": true
   },
   "outputs": [],
   "source": [
    "def plot_learning_curve(estimator, title, X, y, ylim=None, cv=None,n_jobs=None, train_sizes=np.linspace(0.1, 1.0, 10)):\n",
    "    from sklearn.model_selection import learning_curve\n",
    "    \n",
    "    plt.figure()\n",
    "    plt.title(title)\n",
    "    if ylim is not None:\n",
    "        plt.ylim(*ylim)\n",
    "    plt.xlabel(\"Training examples\")\n",
    "    plt.ylabel(\"Score\")\n",
    "    train_sizes, train_scores, test_scores = learning_curve(\n",
    "        estimator, X, y, cv=cv, n_jobs=n_jobs, train_sizes=train_sizes)#train_scores size (n_ticks,n_cv_folds)\n",
    "    train_scores_mean = np.mean(train_scores, axis=1)\n",
    "    train_scores_std = np.std(train_scores, axis=1)\n",
    "    test_scores_mean = np.mean(test_scores, axis=1)\n",
    "    test_scores_std = np.std(test_scores, axis=1)\n",
    "    plt.grid()\n",
    "\n",
    "    plt.fill_between(train_sizes, train_scores_mean - train_scores_std,\n",
    "                     train_scores_mean + train_scores_std, alpha=0.1,\n",
    "                     color=\"r\")\n",
    "    plt.fill_between(train_sizes, test_scores_mean - test_scores_std,\n",
    "                     test_scores_mean + test_scores_std, alpha=0.1, color=\"g\")\n",
    "    plt.plot(train_sizes, train_scores_mean, 'o-', color=\"r\",\n",
    "             label=\"Training score\")\n",
    "    plt.plot(train_sizes, test_scores_mean, 's-', color=\"g\",\n",
    "             label=\"Cross-validation score\")\n",
    "\n",
    "    plt.legend(loc=\"best\")\n",
    "    return plt"
   ]
  },
  {
   "cell_type": "code",
   "execution_count": 6,
   "metadata": {
    "collapsed": true
   },
   "outputs": [],
   "source": [
    "# 计算 预测准确率\n",
    "def compute_acc(y,y_pred):\n",
    "    y_pred_class=np.where(y_pred>0.5,1,0)\n",
    "    pred_accuracy=(y==y_pred_class).sum()/len(y)    \n",
    "    return pred_accuracy"
   ]
  },
  {
   "cell_type": "code",
   "execution_count": 7,
   "metadata": {
    "collapsed": false
   },
   "outputs": [
    {
     "data": {
      "text/plain": [
       "array([ 0.        ,  1.        ,  0.        ,  0.        ,  1.        ,\n",
       "        1.        ,  0.        ,  2.        ,  1.        , -1.91971935,\n",
       "        0.98099823,  3.53619915])"
      ]
     },
     "execution_count": 7,
     "metadata": {},
     "output_type": "execute_result"
    }
   ],
   "source": [
    "# scale 数值数据 数据预处理\n",
    "train_data_count=deal_ticket_fare(train_data)\n",
    "from sklearn.model_selection import train_test_split\n",
    "#train_data_index,dev_data_index=train_test_split(train_data_count.index.tolist(),train_size=0.7,test_size=0.3,random_state=42)\n",
    "#train_df_data=train_data_count.iloc[train_data_index,:]\n",
    "#dev_df_data=train_data_count.iloc[dev_data_index,:]\n",
    "train_df_data,dev_df_data=train_test_split(train_data_count,train_size=0.7,test_size=0.3,random_state=42)\n",
    "train_data_index=train_df_data.index.tolist()\n",
    "dev_data_index=dev_df_data.index.tolist()\n",
    "cat_attrs=['Sex','Embarked']\n",
    "interval_num_attrs=['Pclass','SibSp','Parch','num_of_tickets']\n",
    "ratio_num_attrs=['Age','Fare','fare_per_ticket']\n",
    "full_pipeline_std=data_preparation(cat_attrs,interval_num_attrs,ratio_num_attrs)\n",
    "train_data_X=full_pipeline_std.fit_transform(train_df_data).toarray()\n",
    "train_data_y=train_df_data['Survived'].values.ravel()\n",
    "train_data_X[0]"
   ]
  },
  {
   "cell_type": "code",
   "execution_count": 8,
   "metadata": {
    "collapsed": false
   },
   "outputs": [
    {
     "data": {
      "text/plain": [
       "array([ 0.        ,  1.        ,  1.        ,  0.        ,  0.        ,\n",
       "        3.        ,  1.        ,  1.        ,  2.        , -0.0772525 ,\n",
       "       -0.32547755, -0.49449441])"
      ]
     },
     "execution_count": 8,
     "metadata": {},
     "output_type": "execute_result"
    }
   ],
   "source": [
    "dev_data_X=full_pipeline_std.transform(dev_df_data).toarray()\n",
    "dev_data_y=dev_df_data['Survived'].values.ravel()\n",
    "dev_data_X[0]"
   ]
  },
  {
   "cell_type": "code",
   "execution_count": null,
   "metadata": {
    "collapsed": true
   },
   "outputs": [],
   "source": []
  }
 ],
 "metadata": {
  "anaconda-cloud": {},
  "kernelspec": {
   "display_name": "Python [conda env:Anaconda3]",
   "language": "python",
   "name": "conda-env-Anaconda3-py"
  },
  "language_info": {
   "codemirror_mode": {
    "name": "ipython",
    "version": 3
   },
   "file_extension": ".py",
   "mimetype": "text/x-python",
   "name": "python",
   "nbconvert_exporter": "python",
   "pygments_lexer": "ipython3",
   "version": "3.5.2"
  }
 },
 "nbformat": 4,
 "nbformat_minor": 1
}
